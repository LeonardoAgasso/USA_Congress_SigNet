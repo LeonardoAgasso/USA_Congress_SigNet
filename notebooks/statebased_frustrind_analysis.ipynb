{
 "cells": [
  {
   "cell_type": "markdown",
   "metadata": {},
   "source": [
    "## Use states as voters instead of congressmen"
   ]
  },
  {
   "cell_type": "code",
   "execution_count": 1,
   "metadata": {},
   "outputs": [],
   "source": [
    "import pandas as pd\n",
    "import networkx as nx\n",
    "import numpy as np\n",
    "import re\n",
    "\n",
    "import glob, os\n",
    "import itertools\n",
    "from tqdm import tqdm\n",
    "\n",
    "import matplotlib.pyplot as plt\n",
    "from scipy.stats import gaussian_kde\n",
    "from shapely.geometry import LineString\n",
    "\n",
    "import shapely"
   ]
  },
  {
   "cell_type": "code",
   "execution_count": 2,
   "metadata": {},
   "outputs": [],
   "source": [
    "mmb = pd.read_csv('../dataset/HSall_members.csv')\n",
    "pc = pd.read_csv('../dataset/HSall_parties.csv')"
   ]
  },
  {
   "cell_type": "code",
   "execution_count": 23,
   "metadata": {},
   "outputs": [],
   "source": [
    "def create_members_df():\n",
    "    temp_congress = mmb.groupby('icpsr', as_index=False)[['congress']].agg(lambda x: list(x))\n",
    "    temp_party = mmb.groupby('icpsr', as_index=False)[['party_code']].agg(lambda x: list(set(x)))\n",
    "    temp_congress = temp_congress.merge(temp_party)\n",
    "    temp_congress['bioname'] = temp_congress['icpsr'].map(mmb[['icpsr', 'bioname']].set_index('icpsr').to_dict()['bioname'])\n",
    "    temp_congress['state_abbrev'] = temp_congress['icpsr'].map(mmb[['icpsr', 'state_abbrev']].set_index('icpsr').to_dict()['state_abbrev'])\n",
    "    temp_congress['district_code'] = temp_congress['icpsr'].map(mmb[['icpsr', 'district_code']].set_index('icpsr').to_dict()['district_code'])\n",
    "    party_codes_dic = pc[['party_name', 'party_code']].set_index('party_code').to_dict()['party_name']\n",
    "    temp_congress['party_name'] = temp_congress['party_code'].apply(lambda x: [party_codes_dic[y] for y in x])\n",
    "    return temp_congress\n",
    "\n",
    "members = create_members_df()"
   ]
  },
  {
   "cell_type": "markdown",
   "metadata": {},
   "source": [
    "_________________________________________________________________________________________________"
   ]
  },
  {
   "cell_type": "code",
   "execution_count": 24,
   "metadata": {},
   "outputs": [],
   "source": [
    "members2state_dic = members.set_index('icpsr')['state_abbrev'].to_dict()\n",
    "members2district_dic = members.set_index('icpsr')['district_code'].to_dict()\n",
    "members_party_dict = members.set_index('icpsr')['party_name'].to_dict()"
   ]
  },
  {
   "cell_type": "code",
   "execution_count": 25,
   "metadata": {},
   "outputs": [],
   "source": [
    "# try for congress 110\n",
    "congress_110 = pd.read_csv('../dataset/download_votes_merged/congress_110.csv')"
   ]
  },
  {
   "cell_type": "code",
   "execution_count": 26,
   "metadata": {},
   "outputs": [],
   "source": [
    "# add the column of state_abbrev translating the icpsr\n",
    "congress_110['state_abbrev'] = congress_110['icpsr'].map(members2state_dic)\n",
    "congress_110['code_district'] = congress_110['icpsr'].map(members2state_dic)"
   ]
  },
  {
   "cell_type": "markdown",
   "metadata": {},
   "source": [
    "Create the member-based edgelist (if you didn't do it already)"
   ]
  },
  {
   "cell_type": "code",
   "execution_count": 12,
   "metadata": {},
   "outputs": [],
   "source": [
    "def create_edgelist_from_congress(congress, members_party_dict):\n",
    "\tedgelist = pd.DataFrame()\n",
    "\n",
    "\tfor voteid in tqdm(set(congress['id'])):                 # iterate over all votes id (ids are unique for each vote)\n",
    "\n",
    "\t\ttemp = congress[congress['id'] == voteid]            # select the rows where the vote id is equal to the current vote id            \n",
    "\n",
    "\t\tyy = temp[temp['vote']=='Yea']['icpsr']              # select the icpsr of the members that voted \"Yea\"\n",
    "\t\tnn = temp[temp['vote']=='Nay']['icpsr']                         \n",
    "\n",
    "\t\ty = itertools.combinations(yy, 2)                    # all possible combinations of 2 members that voted \"Yea\"\n",
    "\t\tn = itertools.combinations(nn, 2)                \n",
    "\t\to = itertools.product(yy, nn)                        # cartesian product of the 2 series\n",
    "\n",
    "\t\ty = pd.DataFrame(y, columns = ['source', 'target'])  # create a dataframe from the combinations of \"Yea\" voters\n",
    "\t\ty['weight'] = 1                                      # add a column with the weight of the edge\n",
    "\t\ty['count'] = 1                                         \n",
    "\n",
    "\t\tn = pd.DataFrame(n, columns = ['source', 'target'])     \n",
    "\t\tn['weight'] = 1                                         \n",
    "\t\tn['count'] = 1                                          \n",
    "\n",
    "\t\to = pd.DataFrame(o, columns = ['source', 'target'])     \n",
    "\t\to['weight'] = -1                                     # same but the link is negative                    \n",
    "\t\to['count'] = 1                                          \n",
    "\n",
    "\t\tedgelist = pd.concat([edgelist, y, n, o])\n",
    "\t\tedgelist = edgelist.groupby(['source', 'target', 'weight']).sum().reset_index()     # group by source, target and weight and sum the count                  \n",
    "\n",
    "\tedgelist = pd.concat([edgelist, pd.DataFrame({\n",
    "\t\t'source': edgelist['target'],                        # new columns based on old columns: \n",
    "\t\t'target': edgelist['source'],                        #   'newcolumn': dataframe['oldcolumn']\n",
    "\t\t'weight': edgelist['weight'],\n",
    "\t\t'count': edgelist['count']})])\n",
    "\n",
    "\tedgelist = edgelist.loc[edgelist['source'] < edgelist['target']]                    # remove duplicates\n",
    "\tedgelist = edgelist.groupby(['source', 'target', 'weight']).sum().reset_index()     # group by source, target and weight and sum the count\n",
    "\tedgelist['party'] = edgelist.apply(lambda row: 'in' if members_party_dict[row['source']] == members_party_dict[row['target']] else 'out', axis=1)   # create a column with the party of the edge\n",
    "\n",
    "\tmap_votes = edgelist.groupby(['source', 'target'])['count'].sum().to_dict()                                                                         # create a dictionary with the number of votes togheter for each pair of nodes                               \n",
    "\n",
    "\tedgelist['votes_togheter'] = edgelist[['source', 'target']].apply(lambda x: map_votes[(x['source'], x['target'])], axis=1)\n",
    "\tedgelist['perc'] = edgelist['count']/edgelist['votes_togheter']\n",
    "\n",
    "\treturn edgelist"
   ]
  },
  {
   "cell_type": "code",
   "execution_count": 13,
   "metadata": {},
   "outputs": [
    {
     "name": "stderr",
     "output_type": "stream",
     "text": [
      "100%|██████████| 1865/1865 [05:43<00:00,  5.42it/s]\n"
     ]
    }
   ],
   "source": [
    "edgelist110 = create_edgelist_from_congress(congress_110, members_party_dict)"
   ]
  },
  {
   "cell_type": "code",
   "execution_count": 27,
   "metadata": {},
   "outputs": [],
   "source": [
    "edgelist110['source_state'] = edgelist110['source'].map(members2state_dic)\n",
    "edgelist110['target_state'] = edgelist110['target'].map(members2state_dic)\n",
    "edgelist110['source_district'] = edgelist110['source'].map(members2district_dic)\n",
    "edgelist110['target_district'] = edgelist110['target'].map(members2district_dic)"
   ]
  },
  {
   "cell_type": "code",
   "execution_count": 28,
   "metadata": {},
   "outputs": [
    {
     "data": {
      "text/html": [
       "<div>\n",
       "<style scoped>\n",
       "    .dataframe tbody tr th:only-of-type {\n",
       "        vertical-align: middle;\n",
       "    }\n",
       "\n",
       "    .dataframe tbody tr th {\n",
       "        vertical-align: top;\n",
       "    }\n",
       "\n",
       "    .dataframe thead th {\n",
       "        text-align: right;\n",
       "    }\n",
       "</style>\n",
       "<table border=\"1\" class=\"dataframe\">\n",
       "  <thead>\n",
       "    <tr style=\"text-align: right;\">\n",
       "      <th></th>\n",
       "      <th>source</th>\n",
       "      <th>target</th>\n",
       "      <th>weight</th>\n",
       "      <th>count</th>\n",
       "      <th>party</th>\n",
       "      <th>votes_togheter</th>\n",
       "      <th>perc</th>\n",
       "      <th>source_state</th>\n",
       "      <th>target_state</th>\n",
       "      <th>source_district</th>\n",
       "      <th>target_district</th>\n",
       "    </tr>\n",
       "  </thead>\n",
       "  <tbody>\n",
       "    <tr>\n",
       "      <th>0</th>\n",
       "      <td>2605</td>\n",
       "      <td>10713</td>\n",
       "      <td>-1</td>\n",
       "      <td>75</td>\n",
       "      <td>in</td>\n",
       "      <td>1647</td>\n",
       "      <td>0.045537</td>\n",
       "      <td>MI</td>\n",
       "      <td>MI</td>\n",
       "      <td>12.0</td>\n",
       "      <td>13.0</td>\n",
       "    </tr>\n",
       "    <tr>\n",
       "      <th>1</th>\n",
       "      <td>2605</td>\n",
       "      <td>10713</td>\n",
       "      <td>1</td>\n",
       "      <td>1572</td>\n",
       "      <td>in</td>\n",
       "      <td>1647</td>\n",
       "      <td>0.954463</td>\n",
       "      <td>MI</td>\n",
       "      <td>MI</td>\n",
       "      <td>12.0</td>\n",
       "      <td>13.0</td>\n",
       "    </tr>\n",
       "    <tr>\n",
       "      <th>2</th>\n",
       "      <td>2605</td>\n",
       "      <td>12036</td>\n",
       "      <td>-1</td>\n",
       "      <td>55</td>\n",
       "      <td>in</td>\n",
       "      <td>1747</td>\n",
       "      <td>0.031483</td>\n",
       "      <td>MI</td>\n",
       "      <td>WI</td>\n",
       "      <td>12.0</td>\n",
       "      <td>7.0</td>\n",
       "    </tr>\n",
       "    <tr>\n",
       "      <th>3</th>\n",
       "      <td>2605</td>\n",
       "      <td>12036</td>\n",
       "      <td>1</td>\n",
       "      <td>1692</td>\n",
       "      <td>in</td>\n",
       "      <td>1747</td>\n",
       "      <td>0.968517</td>\n",
       "      <td>MI</td>\n",
       "      <td>WI</td>\n",
       "      <td>12.0</td>\n",
       "      <td>7.0</td>\n",
       "    </tr>\n",
       "    <tr>\n",
       "      <th>4</th>\n",
       "      <td>2605</td>\n",
       "      <td>13035</td>\n",
       "      <td>-1</td>\n",
       "      <td>45</td>\n",
       "      <td>in</td>\n",
       "      <td>1609</td>\n",
       "      <td>0.027968</td>\n",
       "      <td>MI</td>\n",
       "      <td>NY</td>\n",
       "      <td>12.0</td>\n",
       "      <td>13.0</td>\n",
       "    </tr>\n",
       "    <tr>\n",
       "      <th>5</th>\n",
       "      <td>2605</td>\n",
       "      <td>13035</td>\n",
       "      <td>1</td>\n",
       "      <td>1564</td>\n",
       "      <td>in</td>\n",
       "      <td>1609</td>\n",
       "      <td>0.972032</td>\n",
       "      <td>MI</td>\n",
       "      <td>NY</td>\n",
       "      <td>12.0</td>\n",
       "      <td>13.0</td>\n",
       "    </tr>\n",
       "    <tr>\n",
       "      <th>6</th>\n",
       "      <td>2605</td>\n",
       "      <td>13047</td>\n",
       "      <td>-1</td>\n",
       "      <td>896</td>\n",
       "      <td>out</td>\n",
       "      <td>1694</td>\n",
       "      <td>0.528926</td>\n",
       "      <td>MI</td>\n",
       "      <td>FL</td>\n",
       "      <td>12.0</td>\n",
       "      <td>13.0</td>\n",
       "    </tr>\n",
       "    <tr>\n",
       "      <th>7</th>\n",
       "      <td>2605</td>\n",
       "      <td>13047</td>\n",
       "      <td>1</td>\n",
       "      <td>798</td>\n",
       "      <td>out</td>\n",
       "      <td>1694</td>\n",
       "      <td>0.471074</td>\n",
       "      <td>MI</td>\n",
       "      <td>FL</td>\n",
       "      <td>12.0</td>\n",
       "      <td>13.0</td>\n",
       "    </tr>\n",
       "    <tr>\n",
       "      <th>8</th>\n",
       "      <td>2605</td>\n",
       "      <td>14045</td>\n",
       "      <td>-1</td>\n",
       "      <td>857</td>\n",
       "      <td>out</td>\n",
       "      <td>1759</td>\n",
       "      <td>0.487209</td>\n",
       "      <td>MI</td>\n",
       "      <td>OH</td>\n",
       "      <td>12.0</td>\n",
       "      <td>16.0</td>\n",
       "    </tr>\n",
       "    <tr>\n",
       "      <th>9</th>\n",
       "      <td>2605</td>\n",
       "      <td>14045</td>\n",
       "      <td>1</td>\n",
       "      <td>902</td>\n",
       "      <td>out</td>\n",
       "      <td>1759</td>\n",
       "      <td>0.512791</td>\n",
       "      <td>MI</td>\n",
       "      <td>OH</td>\n",
       "      <td>12.0</td>\n",
       "      <td>16.0</td>\n",
       "    </tr>\n",
       "  </tbody>\n",
       "</table>\n",
       "</div>"
      ],
      "text/plain": [
       "   source  target  weight  count party  votes_togheter      perc source_state  \\\n",
       "0    2605   10713      -1     75    in            1647  0.045537           MI   \n",
       "1    2605   10713       1   1572    in            1647  0.954463           MI   \n",
       "2    2605   12036      -1     55    in            1747  0.031483           MI   \n",
       "3    2605   12036       1   1692    in            1747  0.968517           MI   \n",
       "4    2605   13035      -1     45    in            1609  0.027968           MI   \n",
       "5    2605   13035       1   1564    in            1609  0.972032           MI   \n",
       "6    2605   13047      -1    896   out            1694  0.528926           MI   \n",
       "7    2605   13047       1    798   out            1694  0.471074           MI   \n",
       "8    2605   14045      -1    857   out            1759  0.487209           MI   \n",
       "9    2605   14045       1    902   out            1759  0.512791           MI   \n",
       "\n",
       "  target_state  source_district  target_district  \n",
       "0           MI             12.0             13.0  \n",
       "1           MI             12.0             13.0  \n",
       "2           WI             12.0              7.0  \n",
       "3           WI             12.0              7.0  \n",
       "4           NY             12.0             13.0  \n",
       "5           NY             12.0             13.0  \n",
       "6           FL             12.0             13.0  \n",
       "7           FL             12.0             13.0  \n",
       "8           OH             12.0             16.0  \n",
       "9           OH             12.0             16.0  "
      ]
     },
     "execution_count": 28,
     "metadata": {},
     "output_type": "execute_result"
    }
   ],
   "source": [
    "edgelist110.head(10)"
   ]
  },
  {
   "cell_type": "markdown",
   "metadata": {},
   "source": [
    "Generate the state networks ensemble"
   ]
  },
  {
   "cell_type": "code",
   "execution_count": 56,
   "metadata": {},
   "outputs": [],
   "source": [
    "# count all the different states\n",
    "all_states = set(edgelist110['source_state']).union(set(edgelist110['target_state']))\n",
    "all_states_pairs = list(itertools.combinations(all_states, 2))"
   ]
  },
  {
   "cell_type": "code",
   "execution_count": 67,
   "metadata": {},
   "outputs": [],
   "source": [
    "def state_edge_from_random_sample(edgelist, state1, state2, f):\n",
    "    temp = edgelist[(edgelist['source_state'] == state1) & (edgelist['target_state'] == state2)]\n",
    "    n_pos = temp[temp['weight'] == 1]['count'].sum()    # number of times the two states voted together\n",
    "    n_neg = temp[temp['weight'] == -1]['count'].sum()   # number of times the two states voted against each other\n",
    "    s = [1]*n_pos + [-1]*n_neg\n",
    "    s = np.random.choice(s, int(len(s)*f), replace=False)\n",
    "    if sum(s) > 0:\n",
    "        return 1\n",
    "    elif sum(s) < 0:\n",
    "        return -1"
   ]
  },
  {
   "cell_type": "code",
   "execution_count": 68,
   "metadata": {},
   "outputs": [],
   "source": [
    "# define a function that for every pair of states returns the edgelist of the edges between the two states created from a random sample of the same size of the original edgelist\n",
    "def create_state_edgelist(edgelist, all_states_pairs, frac):\n",
    "    state_edgelist = pd.DataFrame()\n",
    "    for state1, state2 in all_states_pairs:\n",
    "        edge = state_edge_from_random_sample(edgelist, state1, state2, frac)\n",
    "        state_edgelist = pd.concat([state_edgelist, pd.DataFrame({'source_state': [state1], 'target_state': [state2], 'weight': [edge]})])\n",
    "    return state_edgelist"
   ]
  },
  {
   "cell_type": "code",
   "execution_count": 70,
   "metadata": {},
   "outputs": [
    {
     "name": "stderr",
     "output_type": "stream",
     "text": [
      "100%|██████████| 20/20 [17:01<00:00, 51.07s/it]\n"
     ]
    }
   ],
   "source": [
    "# create an ensemble of 100 edgelists from congress 110\n",
    "dim_ensemble = 20\n",
    "\n",
    "if not os.path.exists('./ensemble_edgelist110'):\n",
    "    os.makedirs('./ensemble_edgelist110')\n",
    "\n",
    "for i in tqdm(range(dim_ensemble)):\n",
    "    temp = create_state_edgelist(edgelist110, all_states_pairs, 0.5)\n",
    "    temp.to_csv('./ensemble_edgelist110/edgelist110_'+str(i)+'.csv', index=False)\n"
   ]
  },
  {
   "cell_type": "code",
   "execution_count": null,
   "metadata": {},
   "outputs": [],
   "source": []
  }
 ],
 "metadata": {
  "kernelspec": {
   "display_name": "USA_Congress_SigNetEnv",
   "language": "python",
   "name": "python3"
  },
  "language_info": {
   "codemirror_mode": {
    "name": "ipython",
    "version": 3
   },
   "file_extension": ".py",
   "mimetype": "text/x-python",
   "name": "python",
   "nbconvert_exporter": "python",
   "pygments_lexer": "ipython3",
   "version": "3.11.5"
  }
 },
 "nbformat": 4,
 "nbformat_minor": 2
}
