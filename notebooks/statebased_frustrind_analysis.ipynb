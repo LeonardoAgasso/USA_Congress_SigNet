{
 "cells": [
  {
   "cell_type": "markdown",
   "metadata": {},
   "source": [
    "## Use states as voters instead of congressmen"
   ]
  },
  {
   "cell_type": "code",
   "execution_count": 1,
   "metadata": {},
   "outputs": [],
   "source": [
    "import pandas as pd\n",
    "import networkx as nx\n",
    "import numpy as np\n",
    "import re\n",
    "\n",
    "import glob, os\n",
    "import itertools\n",
    "from tqdm import tqdm\n",
    "\n",
    "import matplotlib.pyplot as plt\n",
    "from scipy.stats import gaussian_kde\n",
    "import shapely"
   ]
  },
  {
   "cell_type": "code",
   "execution_count": 2,
   "metadata": {},
   "outputs": [],
   "source": [
    "mmb = pd.read_csv('../dataset/HSall_members.csv')\n",
    "pc = pd.read_csv('../dataset/HSall_parties.csv')"
   ]
  },
  {
   "cell_type": "code",
   "execution_count": 3,
   "metadata": {},
   "outputs": [],
   "source": [
    "def create_members_df():\n",
    "    temp_congress = mmb.groupby('icpsr', as_index=False)[['congress']].agg(lambda x: list(x))\n",
    "    temp_party = mmb.groupby('icpsr', as_index=False)[['party_code']].agg(lambda x: list(set(x)))\n",
    "    temp_congress = temp_congress.merge(temp_party)\n",
    "    temp_congress['bioname'] = temp_congress['icpsr'].map(mmb[['icpsr', 'bioname']].set_index('icpsr').to_dict()['bioname'])\n",
    "    temp_congress['state_abbrev'] = temp_congress['icpsr'].map(mmb[['icpsr', 'state_abbrev']].set_index('icpsr').to_dict()['state_abbrev'])\n",
    "    temp_congress['district_code'] = temp_congress['icpsr'].map(mmb[['icpsr', 'district_code']].set_index('icpsr').to_dict()['district_code'])\n",
    "    party_codes_dic = pc[['party_name', 'party_code']].set_index('party_code').to_dict()['party_name']\n",
    "    temp_congress['party_name'] = temp_congress['party_code'].apply(lambda x: [party_codes_dic[y] for y in x])\n",
    "    return temp_congress\n",
    "\n",
    "members = create_members_df()"
   ]
  },
  {
   "cell_type": "markdown",
   "metadata": {},
   "source": [
    "_________________________________________________________________________________________________"
   ]
  },
  {
   "cell_type": "code",
   "execution_count": 4,
   "metadata": {},
   "outputs": [],
   "source": [
    "n_congress = '100'"
   ]
  },
  {
   "cell_type": "code",
   "execution_count": 5,
   "metadata": {},
   "outputs": [],
   "source": [
    "members2state_dic = members.set_index('icpsr')['state_abbrev'].to_dict()\n",
    "members2district_dic = members.set_index('icpsr')['district_code'].to_dict()\n",
    "members_party_dict = members.set_index('icpsr')['party_name'].to_dict()"
   ]
  },
  {
   "cell_type": "code",
   "execution_count": 6,
   "metadata": {},
   "outputs": [],
   "source": [
    "# try for congress 110\n",
    "congress_prova = pd.read_csv('../dataset/download_votes_merged/congress_'+n_congress+'.csv')"
   ]
  },
  {
   "cell_type": "code",
   "execution_count": 7,
   "metadata": {},
   "outputs": [],
   "source": [
    "# add the column of state_abbrev translating the icpsr\n",
    "congress_prova['state_abbrev'] = congress_prova['icpsr'].map(members2state_dic)\n",
    "congress_prova['code_district'] = congress_prova['icpsr'].map(members2state_dic)"
   ]
  },
  {
   "cell_type": "markdown",
   "metadata": {},
   "source": [
    "Create the member-based edgelist (if you didn't do it already)"
   ]
  },
  {
   "cell_type": "code",
   "execution_count": 8,
   "metadata": {},
   "outputs": [],
   "source": [
    "def create_edgelist_from_congress(congress, members_party_dict):\n",
    "\tedgelist = pd.DataFrame()\n",
    "\n",
    "\tfor voteid in tqdm(set(congress['id'])):                 # iterate over all votes id (ids are unique for each vote)\n",
    "\n",
    "\t\ttemp = congress[congress['id'] == voteid]            # select the rows where the vote id is equal to the current vote id            \n",
    "\n",
    "\t\tyy = temp[temp['vote']=='Yea']['icpsr']              # select the icpsr of the members that voted \"Yea\"\n",
    "\t\tnn = temp[temp['vote']=='Nay']['icpsr']                         \n",
    "\n",
    "\t\ty = itertools.combinations(yy, 2)                    # all possible combinations of 2 members that voted \"Yea\"\n",
    "\t\tn = itertools.combinations(nn, 2)                \n",
    "\t\to = itertools.product(yy, nn)                        # cartesian product of the 2 series\n",
    "\n",
    "\t\ty = pd.DataFrame(y, columns = ['source', 'target'])  # create a dataframe from the combinations of \"Yea\" voters\n",
    "\t\ty['weight'] = 1                                      # add a column with the weight of the edge\n",
    "\t\ty['count'] = 1                                         \n",
    "\n",
    "\t\tn = pd.DataFrame(n, columns = ['source', 'target'])     \n",
    "\t\tn['weight'] = 1                                         \n",
    "\t\tn['count'] = 1                                          \n",
    "\n",
    "\t\to = pd.DataFrame(o, columns = ['source', 'target'])     \n",
    "\t\to['weight'] = -1                                     # same but the link is negative                    \n",
    "\t\to['count'] = 1                                          \n",
    "\n",
    "\t\tedgelist = pd.concat([edgelist, y, n, o])\n",
    "\t\tedgelist = edgelist.groupby(['source', 'target', 'weight']).sum().reset_index()     # group by source, target and weight and sum the count                  \n",
    "\n",
    "\tedgelist = pd.concat([edgelist, pd.DataFrame({\n",
    "\t\t'source': edgelist['target'],                        # new columns based on old columns: \n",
    "\t\t'target': edgelist['source'],                        #   'newcolumn': dataframe['oldcolumn']\n",
    "\t\t'weight': edgelist['weight'],\n",
    "\t\t'count': edgelist['count']})])\n",
    "\n",
    "\tedgelist = edgelist.loc[edgelist['source'] < edgelist['target']]                    # remove duplicates\n",
    "\tedgelist = edgelist.groupby(['source', 'target', 'weight']).sum().reset_index()     # group by source, target and weight and sum the count\n",
    "\tedgelist['party'] = edgelist.apply(lambda row: 'in' if members_party_dict[row['source']] == members_party_dict[row['target']] else 'out', axis=1)   # create a column with the party of the edge\n",
    "\n",
    "\tmap_votes = edgelist.groupby(['source', 'target'])['count'].sum().to_dict()                                                                         # create a dictionary with the number of votes togheter for each pair of nodes                               \n",
    "\n",
    "\tedgelist['votes_togheter'] = edgelist[['source', 'target']].apply(lambda x: map_votes[(x['source'], x['target'])], axis=1)\n",
    "\tedgelist['perc'] = edgelist['count']/edgelist['votes_togheter']\n",
    "\n",
    "\treturn edgelist"
   ]
  },
  {
   "cell_type": "code",
   "execution_count": 9,
   "metadata": {},
   "outputs": [],
   "source": [
    "def compute_threshold_intersx(df, weight):\t#df is the edgelist, weight is the weight of the edge\n",
    "\n",
    "\tdef _midpoint(p1, p2):\n",
    "\t\treturn {'x': (p1['x']+p2['x'])/2, 'y': (p1['y']+p2['y'])/2}\n",
    "\n",
    "\tdef line_intersection(in_party, out_party, intersect_points):\n",
    "\t\tindex_in = np.argmax(in_party[1])\n",
    "\t\tindex_out = np.argmax(out_party[1])\n",
    "\n",
    "        # points of the mean of the distributions \n",
    "\t\tpoint_in={'x': in_party[0][index_in], 'y': in_party[1][index_in]}\n",
    "\t\tpoint_out={'x': out_party[0][index_out], 'y': out_party[1][index_out]}\n",
    "\n",
    "        # medianpoint (mean of the means) of the two distributions\n",
    "\t\tmidpoint = _midpoint(point_in, point_out)\n",
    "        \n",
    "        #find index of intersection closer to midpoint\n",
    "\t\tindex_closer = np.argmin([np.sqrt( (p[0] - midpoint['x'])**2 + (p[1] - midpoint['y'])**2 ) for p in intersect_points])\n",
    "\n",
    "        # return x value of closer intersection\n",
    "\t\treturn intersect_points[index_closer][0]\n",
    "\n",
    "\tx0 = df.loc[(df['party']=='in')&(df['weight'] == weight)]['perc']\n",
    "\tx1 = df.loc[(df['party']=='out')&(df['weight'] == weight)]['perc']\n",
    "    \n",
    "\tbw = len(x0)**(-1./(2+4))\n",
    "\tkde0 = gaussian_kde(x0, bw_method=bw)\n",
    "\tbw = len(x1)**(-1./(2+4))\n",
    "\tkde1 = gaussian_kde(x1, bw_method=bw)\n",
    "\n",
    "\txmin = min(x0.min(), x1.min())\n",
    "\txmax = max(x0.max(), x1.max())\n",
    "\tdx = 0.2 * (xmax - xmin) # add a 20% margin, as the kde is wider than the data\n",
    "\txmin -= dx\n",
    "\txmax += dx\n",
    "\n",
    "\tx = np.linspace(xmin, xmax, 500)\n",
    "\tkde0_x = kde0(x)\n",
    "\tkde1_x = kde1(x)\n",
    "\tinters_x = np.minimum(kde0_x, kde1_x)\n",
    "\n",
    "\tidx = np.argwhere(np.diff(np.sign(kde0_x - kde1_x))).flatten()\n",
    "    \n",
    "\tthreshold = line_intersection([x, kde0_x], [x, kde0_x], [[x,y] for x,y in zip (x[idx], kde1_x[idx])])\n",
    "\tarea_inters_x = np.trapz(inters_x, x)\n",
    "\n",
    "\treturn threshold, area_inters_x"
   ]
  },
  {
   "cell_type": "code",
   "execution_count": 10,
   "metadata": {},
   "outputs": [
    {
     "name": "stderr",
     "output_type": "stream",
     "text": [
      "100%|██████████| 939/939 [02:32<00:00,  6.17it/s]\n"
     ]
    }
   ],
   "source": [
    "edgelist_prova = create_edgelist_from_congress(congress_prova, members_party_dict)"
   ]
  },
  {
   "cell_type": "code",
   "execution_count": 12,
   "metadata": {},
   "outputs": [],
   "source": [
    "len_df = len(pd.read_csv('../dataset/download_votes_merged/congress_'+n_congress+'.csv')['bill_number'].unique())\n",
    "threshold_pos, area_pos = compute_threshold_intersx(edgelist_prova, 1)\n",
    "threshold_neg, area_neg = compute_threshold_intersx(edgelist_prova, -1)\n",
    "\n",
    "df_output = pd.DataFrame({\n",
    "\t'pos_threshold': [threshold_pos],\n",
    "\t'pos_area': [area_pos],\n",
    "\t'neg_threshold': [threshold_neg],\n",
    "\t'neg_area': [area_neg],\n",
    "\t'n_votes': [len_df]\n",
    "})\n",
    "\n",
    "df_output.to_csv('./ensemble_edgelist_prova/threshold_prova.csv', index=False)"
   ]
  },
  {
   "cell_type": "code",
   "execution_count": 15,
   "metadata": {},
   "outputs": [],
   "source": [
    "edgelist_prova['source_state'] = edgelist_prova['source'].map(members2state_dic)\n",
    "edgelist_prova['target_state'] = edgelist_prova['target'].map(members2state_dic)\n",
    "edgelist_prova['source_district'] = edgelist_prova['source'].map(members2district_dic)\n",
    "edgelist_prova['target_district'] = edgelist_prova['target'].map(members2district_dic)\n",
    "\n",
    "# create a column with 'source_state;source_district' and one with 'target_state;target_district', convert district to string before doing it\n",
    "edgelist_prova['source_state_district'] = edgelist_prova[['source_state', 'source_district']].apply(lambda x: ';'.join(x.astype(str)), axis=1)\n",
    "edgelist_prova['target_state_district'] = edgelist_prova[['target_state', 'target_district']].apply(lambda x: ';'.join(x.astype(str)), axis=1)"
   ]
  },
  {
   "cell_type": "markdown",
   "metadata": {},
   "source": [
    "Filter the edgelist using the thresholds"
   ]
  },
  {
   "cell_type": "code",
   "execution_count": 19,
   "metadata": {},
   "outputs": [],
   "source": [
    "df_pos = edgelist_prova.loc[(edgelist_prova['weight']==1)&(edgelist_prova['perc']>threshold_pos)].copy()\n",
    "df_neg = edgelist_prova.loc[(edgelist_prova['weight']==-1)&(edgelist_prova['perc']>threshold_neg)].copy()\n",
    "edgelist_prova_filtered = pd.concat([df_pos, df_neg])"
   ]
  },
  {
   "cell_type": "code",
   "execution_count": 20,
   "metadata": {},
   "outputs": [
    {
     "data": {
      "text/html": [
       "<div>\n",
       "<style scoped>\n",
       "    .dataframe tbody tr th:only-of-type {\n",
       "        vertical-align: middle;\n",
       "    }\n",
       "\n",
       "    .dataframe tbody tr th {\n",
       "        vertical-align: top;\n",
       "    }\n",
       "\n",
       "    .dataframe thead th {\n",
       "        text-align: right;\n",
       "    }\n",
       "</style>\n",
       "<table border=\"1\" class=\"dataframe\">\n",
       "  <thead>\n",
       "    <tr style=\"text-align: right;\">\n",
       "      <th></th>\n",
       "      <th>source</th>\n",
       "      <th>target</th>\n",
       "      <th>weight</th>\n",
       "      <th>count</th>\n",
       "      <th>party</th>\n",
       "      <th>votes_togheter</th>\n",
       "      <th>perc</th>\n",
       "      <th>source_state</th>\n",
       "      <th>target_state</th>\n",
       "      <th>source_district</th>\n",
       "      <th>target_district</th>\n",
       "      <th>source_state_district</th>\n",
       "      <th>target_state_district</th>\n",
       "    </tr>\n",
       "  </thead>\n",
       "  <tbody>\n",
       "    <tr>\n",
       "      <th>0</th>\n",
       "      <td>633</td>\n",
       "      <td>830</td>\n",
       "      <td>-1</td>\n",
       "      <td>121</td>\n",
       "      <td>in</td>\n",
       "      <td>817</td>\n",
       "      <td>0.148103</td>\n",
       "      <td>FL</td>\n",
       "      <td>MA</td>\n",
       "      <td>3.0</td>\n",
       "      <td>2.0</td>\n",
       "      <td>FL;3.0</td>\n",
       "      <td>MA;2.0</td>\n",
       "    </tr>\n",
       "    <tr>\n",
       "      <th>1</th>\n",
       "      <td>633</td>\n",
       "      <td>830</td>\n",
       "      <td>1</td>\n",
       "      <td>696</td>\n",
       "      <td>in</td>\n",
       "      <td>817</td>\n",
       "      <td>0.851897</td>\n",
       "      <td>FL</td>\n",
       "      <td>MA</td>\n",
       "      <td>3.0</td>\n",
       "      <td>2.0</td>\n",
       "      <td>FL;3.0</td>\n",
       "      <td>MA;2.0</td>\n",
       "    </tr>\n",
       "    <tr>\n",
       "      <th>2</th>\n",
       "      <td>633</td>\n",
       "      <td>1077</td>\n",
       "      <td>-1</td>\n",
       "      <td>136</td>\n",
       "      <td>in</td>\n",
       "      <td>842</td>\n",
       "      <td>0.161520</td>\n",
       "      <td>FL</td>\n",
       "      <td>TX</td>\n",
       "      <td>3.0</td>\n",
       "      <td>9.0</td>\n",
       "      <td>FL;3.0</td>\n",
       "      <td>TX;9.0</td>\n",
       "    </tr>\n",
       "    <tr>\n",
       "      <th>3</th>\n",
       "      <td>633</td>\n",
       "      <td>1077</td>\n",
       "      <td>1</td>\n",
       "      <td>706</td>\n",
       "      <td>in</td>\n",
       "      <td>842</td>\n",
       "      <td>0.838480</td>\n",
       "      <td>FL</td>\n",
       "      <td>TX</td>\n",
       "      <td>3.0</td>\n",
       "      <td>9.0</td>\n",
       "      <td>FL;3.0</td>\n",
       "      <td>TX;9.0</td>\n",
       "    </tr>\n",
       "    <tr>\n",
       "      <th>4</th>\n",
       "      <td>633</td>\n",
       "      <td>1087</td>\n",
       "      <td>-1</td>\n",
       "      <td>332</td>\n",
       "      <td>out</td>\n",
       "      <td>877</td>\n",
       "      <td>0.378563</td>\n",
       "      <td>FL</td>\n",
       "      <td>MI</td>\n",
       "      <td>3.0</td>\n",
       "      <td>18.0</td>\n",
       "      <td>FL;3.0</td>\n",
       "      <td>MI;18.0</td>\n",
       "    </tr>\n",
       "    <tr>\n",
       "      <th>5</th>\n",
       "      <td>633</td>\n",
       "      <td>1087</td>\n",
       "      <td>1</td>\n",
       "      <td>545</td>\n",
       "      <td>out</td>\n",
       "      <td>877</td>\n",
       "      <td>0.621437</td>\n",
       "      <td>FL</td>\n",
       "      <td>MI</td>\n",
       "      <td>3.0</td>\n",
       "      <td>18.0</td>\n",
       "      <td>FL;3.0</td>\n",
       "      <td>MI;18.0</td>\n",
       "    </tr>\n",
       "    <tr>\n",
       "      <th>6</th>\n",
       "      <td>633</td>\n",
       "      <td>2009</td>\n",
       "      <td>-1</td>\n",
       "      <td>219</td>\n",
       "      <td>out</td>\n",
       "      <td>908</td>\n",
       "      <td>0.241189</td>\n",
       "      <td>FL</td>\n",
       "      <td>MA</td>\n",
       "      <td>3.0</td>\n",
       "      <td>1.0</td>\n",
       "      <td>FL;3.0</td>\n",
       "      <td>MA;1.0</td>\n",
       "    </tr>\n",
       "    <tr>\n",
       "      <th>7</th>\n",
       "      <td>633</td>\n",
       "      <td>2009</td>\n",
       "      <td>1</td>\n",
       "      <td>689</td>\n",
       "      <td>out</td>\n",
       "      <td>908</td>\n",
       "      <td>0.758811</td>\n",
       "      <td>FL</td>\n",
       "      <td>MA</td>\n",
       "      <td>3.0</td>\n",
       "      <td>1.0</td>\n",
       "      <td>FL;3.0</td>\n",
       "      <td>MA;1.0</td>\n",
       "    </tr>\n",
       "    <tr>\n",
       "      <th>8</th>\n",
       "      <td>633</td>\n",
       "      <td>2605</td>\n",
       "      <td>-1</td>\n",
       "      <td>136</td>\n",
       "      <td>in</td>\n",
       "      <td>848</td>\n",
       "      <td>0.160377</td>\n",
       "      <td>FL</td>\n",
       "      <td>MI</td>\n",
       "      <td>3.0</td>\n",
       "      <td>12.0</td>\n",
       "      <td>FL;3.0</td>\n",
       "      <td>MI;12.0</td>\n",
       "    </tr>\n",
       "    <tr>\n",
       "      <th>9</th>\n",
       "      <td>633</td>\n",
       "      <td>2605</td>\n",
       "      <td>1</td>\n",
       "      <td>712</td>\n",
       "      <td>in</td>\n",
       "      <td>848</td>\n",
       "      <td>0.839623</td>\n",
       "      <td>FL</td>\n",
       "      <td>MI</td>\n",
       "      <td>3.0</td>\n",
       "      <td>12.0</td>\n",
       "      <td>FL;3.0</td>\n",
       "      <td>MI;12.0</td>\n",
       "    </tr>\n",
       "  </tbody>\n",
       "</table>\n",
       "</div>"
      ],
      "text/plain": [
       "   source  target  weight  count party  votes_togheter      perc source_state  \\\n",
       "0     633     830      -1    121    in             817  0.148103           FL   \n",
       "1     633     830       1    696    in             817  0.851897           FL   \n",
       "2     633    1077      -1    136    in             842  0.161520           FL   \n",
       "3     633    1077       1    706    in             842  0.838480           FL   \n",
       "4     633    1087      -1    332   out             877  0.378563           FL   \n",
       "5     633    1087       1    545   out             877  0.621437           FL   \n",
       "6     633    2009      -1    219   out             908  0.241189           FL   \n",
       "7     633    2009       1    689   out             908  0.758811           FL   \n",
       "8     633    2605      -1    136    in             848  0.160377           FL   \n",
       "9     633    2605       1    712    in             848  0.839623           FL   \n",
       "\n",
       "  target_state  source_district  target_district source_state_district  \\\n",
       "0           MA              3.0              2.0                FL;3.0   \n",
       "1           MA              3.0              2.0                FL;3.0   \n",
       "2           TX              3.0              9.0                FL;3.0   \n",
       "3           TX              3.0              9.0                FL;3.0   \n",
       "4           MI              3.0             18.0                FL;3.0   \n",
       "5           MI              3.0             18.0                FL;3.0   \n",
       "6           MA              3.0              1.0                FL;3.0   \n",
       "7           MA              3.0              1.0                FL;3.0   \n",
       "8           MI              3.0             12.0                FL;3.0   \n",
       "9           MI              3.0             12.0                FL;3.0   \n",
       "\n",
       "  target_state_district  \n",
       "0                MA;2.0  \n",
       "1                MA;2.0  \n",
       "2                TX;9.0  \n",
       "3                TX;9.0  \n",
       "4               MI;18.0  \n",
       "5               MI;18.0  \n",
       "6                MA;1.0  \n",
       "7                MA;1.0  \n",
       "8               MI;12.0  \n",
       "9               MI;12.0  "
      ]
     },
     "execution_count": 20,
     "metadata": {},
     "output_type": "execute_result"
    }
   ],
   "source": [
    "edgelist_prova.head(10)"
   ]
  },
  {
   "cell_type": "code",
   "execution_count": 21,
   "metadata": {},
   "outputs": [
    {
     "data": {
      "text/html": [
       "<div>\n",
       "<style scoped>\n",
       "    .dataframe tbody tr th:only-of-type {\n",
       "        vertical-align: middle;\n",
       "    }\n",
       "\n",
       "    .dataframe tbody tr th {\n",
       "        vertical-align: top;\n",
       "    }\n",
       "\n",
       "    .dataframe thead th {\n",
       "        text-align: right;\n",
       "    }\n",
       "</style>\n",
       "<table border=\"1\" class=\"dataframe\">\n",
       "  <thead>\n",
       "    <tr style=\"text-align: right;\">\n",
       "      <th></th>\n",
       "      <th>source</th>\n",
       "      <th>target</th>\n",
       "      <th>weight</th>\n",
       "      <th>count</th>\n",
       "      <th>party</th>\n",
       "      <th>votes_togheter</th>\n",
       "      <th>perc</th>\n",
       "      <th>source_state</th>\n",
       "      <th>target_state</th>\n",
       "      <th>source_district</th>\n",
       "      <th>target_district</th>\n",
       "      <th>source_state_district</th>\n",
       "      <th>target_state_district</th>\n",
       "    </tr>\n",
       "  </thead>\n",
       "  <tbody>\n",
       "    <tr>\n",
       "      <th>4434</th>\n",
       "      <td>2605</td>\n",
       "      <td>10713</td>\n",
       "      <td>1</td>\n",
       "      <td>677</td>\n",
       "      <td>in</td>\n",
       "      <td>740</td>\n",
       "      <td>0.914865</td>\n",
       "      <td>MI</td>\n",
       "      <td>MI</td>\n",
       "      <td>12.0</td>\n",
       "      <td>13.0</td>\n",
       "      <td>MI;12.0</td>\n",
       "      <td>MI;13.0</td>\n",
       "    </tr>\n",
       "  </tbody>\n",
       "</table>\n",
       "</div>"
      ],
      "text/plain": [
       "      source  target  weight  count party  votes_togheter      perc  \\\n",
       "4434    2605   10713       1    677    in             740  0.914865   \n",
       "\n",
       "     source_state target_state  source_district  target_district  \\\n",
       "4434           MI           MI             12.0             13.0   \n",
       "\n",
       "     source_state_district target_state_district  \n",
       "4434               MI;12.0               MI;13.0  "
      ]
     },
     "execution_count": 21,
     "metadata": {},
     "output_type": "execute_result"
    }
   ],
   "source": [
    "# show all the lines where source is 2605 and target is 10713\n",
    "edgelist_prova_filtered.loc[(edgelist_prova['source']==2605)&(edgelist_prova['target']==10713)]"
   ]
  },
  {
   "cell_type": "markdown",
   "metadata": {},
   "source": [
    "Generate the state networks ensemble"
   ]
  },
  {
   "cell_type": "code",
   "execution_count": 26,
   "metadata": {},
   "outputs": [],
   "source": [
    "state_district_pairs = list(itertools.combinations(set(edgelist_prova['source_state_district']), 2))"
   ]
  },
  {
   "cell_type": "code",
   "execution_count": 30,
   "metadata": {},
   "outputs": [],
   "source": [
    "import random"
   ]
  },
  {
   "cell_type": "code",
   "execution_count": 35,
   "metadata": {},
   "outputs": [],
   "source": [
    "# generate an edgelist that, given a pair of states, geenrates the link of weight +1 summing the links of weight +1 between the all the members of the two states, and the same for the links of weight -1\n",
    "def create_edgelist_from_states(edgelist, state_district_pairs):\n",
    "\tedgelist_states = pd.DataFrame()\n",
    "\n",
    "\tdef sample_elements_count(m, l, perc):\n",
    "\t\ttot = m + l\n",
    "\t\tn = int(tot * perc)\n",
    "\t\telements = ['A']*m + ['B']*l\n",
    "\t\tsampled_elements = random.sample(elements, n)\n",
    "\t\t\n",
    "\t\tcount_A = sampled_elements.count('A')\n",
    "\t\tcount_B = sampled_elements.count('B')\n",
    "\n",
    "\t\treturn count_A, count_B\n",
    "\t\n",
    "\t\n",
    "\n",
    "\tfor s1, s2 in tqdm(state_district_pairs):\n",
    "\t\ttemp = edgelist.loc[((edgelist['source_state_district']==s1)&(edgelist['target_state_district']==s2))|((edgelist['source_state_district']==s2)&(edgelist['target_state_district']==s1))].copy()\n",
    "\t\tpos_edges = sum(temp.loc[temp['weight']==1]['count'])\n",
    "\t\tneg_edges = sum(temp.loc[temp['weight']==-1]['count'])\n",
    "\n",
    "\t\tpos_sample, neg_sample = sample_elements_count(pos_edges, neg_edges, 0.50)\n",
    "\t\tif pos_sample + neg_sample == 0: # apparently there are some pairs of states that have no edges between them, just skip them\n",
    "\t\t\tcontinue\n",
    "\n",
    "\t\tedgelist_states = pd.concat([edgelist_states, pd.DataFrame({\n",
    "\t\t\t'source_state_district': [s1],\n",
    "\t\t\t'target_state_district': [s2],\n",
    "\t\t\t'weight': [1],\n",
    "\t\t\t'count': [pos_sample],\n",
    "\t\t\t'party': ['in'],\n",
    "\t\t\t'perc': [pos_sample/(pos_sample+neg_sample)]\n",
    "\t\t})])\n",
    "\n",
    "\t\tedgelist_states = pd.concat([edgelist_states, pd.DataFrame({\n",
    "\t\t\t'source_state_district': [s1],\n",
    "\t\t\t'target_state_district': [s2],\n",
    "\t\t\t'weight': [-1],\n",
    "\t\t\t'count': [neg_sample],\n",
    "\t\t\t'party': ['out'],\n",
    "\t\t\t'perc': [neg_sample/(pos_sample+neg_sample)]\n",
    "\t\t})])\n",
    "\t\t\n",
    "\t# edgelist_states = edgelist_states.groupby(['source_state', 'target_state', 'weight']).sum().reset_index()\n",
    "\t# edgelist_states['party'] = edgelist_states.apply(lambda row: 'in' if row['weight']==1 else 'out', axis=1)\n",
    "\t# edgelist_states['perc'] = edgelist_states['count']/edgelist_states['votes_togheter']\n",
    "\n",
    "\treturn edgelist_states"
   ]
  },
  {
   "cell_type": "code",
   "execution_count": 36,
   "metadata": {},
   "outputs": [
    {
     "name": "stderr",
     "output_type": "stream",
     "text": [
      "100%|██████████| 77815/77815 [48:01<00:00, 27.01it/s]\n"
     ]
    }
   ],
   "source": [
    "edgelist_prova_states = create_edgelist_from_states(edgelist_prova_filtered, state_district_pairs)\n",
    "edgelist_prova_states.index = range(len(edgelist_prova_states))"
   ]
  },
  {
   "cell_type": "code",
   "execution_count": 37,
   "metadata": {},
   "outputs": [
    {
     "data": {
      "text/html": [
       "<div>\n",
       "<style scoped>\n",
       "    .dataframe tbody tr th:only-of-type {\n",
       "        vertical-align: middle;\n",
       "    }\n",
       "\n",
       "    .dataframe tbody tr th {\n",
       "        vertical-align: top;\n",
       "    }\n",
       "\n",
       "    .dataframe thead th {\n",
       "        text-align: right;\n",
       "    }\n",
       "</style>\n",
       "<table border=\"1\" class=\"dataframe\">\n",
       "  <thead>\n",
       "    <tr style=\"text-align: right;\">\n",
       "      <th></th>\n",
       "      <th>source_state_district</th>\n",
       "      <th>target_state_district</th>\n",
       "      <th>weight</th>\n",
       "      <th>count</th>\n",
       "      <th>party</th>\n",
       "      <th>perc</th>\n",
       "    </tr>\n",
       "  </thead>\n",
       "  <tbody>\n",
       "    <tr>\n",
       "      <th>0</th>\n",
       "      <td>TN;1.0</td>\n",
       "      <td>TX;10.0</td>\n",
       "      <td>1</td>\n",
       "      <td>0</td>\n",
       "      <td>in</td>\n",
       "      <td>0.0</td>\n",
       "    </tr>\n",
       "    <tr>\n",
       "      <th>1</th>\n",
       "      <td>TN;1.0</td>\n",
       "      <td>TX;10.0</td>\n",
       "      <td>-1</td>\n",
       "      <td>144</td>\n",
       "      <td>out</td>\n",
       "      <td>1.0</td>\n",
       "    </tr>\n",
       "    <tr>\n",
       "      <th>2</th>\n",
       "      <td>TN;1.0</td>\n",
       "      <td>PA;15.0</td>\n",
       "      <td>1</td>\n",
       "      <td>314</td>\n",
       "      <td>in</td>\n",
       "      <td>1.0</td>\n",
       "    </tr>\n",
       "    <tr>\n",
       "      <th>3</th>\n",
       "      <td>TN;1.0</td>\n",
       "      <td>PA;15.0</td>\n",
       "      <td>-1</td>\n",
       "      <td>0</td>\n",
       "      <td>out</td>\n",
       "      <td>0.0</td>\n",
       "    </tr>\n",
       "    <tr>\n",
       "      <th>4</th>\n",
       "      <td>TN;1.0</td>\n",
       "      <td>KS;0.0</td>\n",
       "      <td>1</td>\n",
       "      <td>296</td>\n",
       "      <td>in</td>\n",
       "      <td>1.0</td>\n",
       "    </tr>\n",
       "    <tr>\n",
       "      <th>5</th>\n",
       "      <td>TN;1.0</td>\n",
       "      <td>KS;0.0</td>\n",
       "      <td>-1</td>\n",
       "      <td>0</td>\n",
       "      <td>out</td>\n",
       "      <td>0.0</td>\n",
       "    </tr>\n",
       "    <tr>\n",
       "      <th>6</th>\n",
       "      <td>TN;1.0</td>\n",
       "      <td>MN;6.0</td>\n",
       "      <td>1</td>\n",
       "      <td>0</td>\n",
       "      <td>in</td>\n",
       "      <td>0.0</td>\n",
       "    </tr>\n",
       "    <tr>\n",
       "      <th>7</th>\n",
       "      <td>TN;1.0</td>\n",
       "      <td>MN;6.0</td>\n",
       "      <td>-1</td>\n",
       "      <td>199</td>\n",
       "      <td>out</td>\n",
       "      <td>1.0</td>\n",
       "    </tr>\n",
       "    <tr>\n",
       "      <th>8</th>\n",
       "      <td>TN;1.0</td>\n",
       "      <td>WV;3.0</td>\n",
       "      <td>1</td>\n",
       "      <td>0</td>\n",
       "      <td>in</td>\n",
       "      <td>0.0</td>\n",
       "    </tr>\n",
       "    <tr>\n",
       "      <th>9</th>\n",
       "      <td>TN;1.0</td>\n",
       "      <td>WV;3.0</td>\n",
       "      <td>-1</td>\n",
       "      <td>154</td>\n",
       "      <td>out</td>\n",
       "      <td>1.0</td>\n",
       "    </tr>\n",
       "  </tbody>\n",
       "</table>\n",
       "</div>"
      ],
      "text/plain": [
       "  source_state_district target_state_district  weight  count party  perc\n",
       "0                TN;1.0               TX;10.0       1      0    in   0.0\n",
       "1                TN;1.0               TX;10.0      -1    144   out   1.0\n",
       "2                TN;1.0               PA;15.0       1    314    in   1.0\n",
       "3                TN;1.0               PA;15.0      -1      0   out   0.0\n",
       "4                TN;1.0                KS;0.0       1    296    in   1.0\n",
       "5                TN;1.0                KS;0.0      -1      0   out   0.0\n",
       "6                TN;1.0                MN;6.0       1      0    in   0.0\n",
       "7                TN;1.0                MN;6.0      -1    199   out   1.0\n",
       "8                TN;1.0                WV;3.0       1      0    in   0.0\n",
       "9                TN;1.0                WV;3.0      -1    154   out   1.0"
      ]
     },
     "execution_count": 37,
     "metadata": {},
     "output_type": "execute_result"
    }
   ],
   "source": [
    "edgelist_prova_states.head(10)"
   ]
  },
  {
   "cell_type": "markdown",
   "metadata": {},
   "source": [
    "_____________________________"
   ]
  },
  {
   "cell_type": "markdown",
   "metadata": {},
   "source": [
    "Compute the least eigenvalues for a given edgelist: all it needs is a column 'source', a column 'target' and a column 'weight'"
   ]
  },
  {
   "cell_type": "code",
   "execution_count": 38,
   "metadata": {},
   "outputs": [],
   "source": [
    "import sys\n",
    "sys.path.append('../local/bin/')\n",
    "from sygno.nodes_position import _get_xcoord"
   ]
  },
  {
   "cell_type": "code",
   "execution_count": 41,
   "metadata": {},
   "outputs": [],
   "source": [
    "def compute_eigen(df):\n",
    "    def compute_d_max(G):\n",
    "        max_d = 0\n",
    "        for edge in G.edges(data=True):\n",
    "            temp = G.degree[edge[0]] + G.degree[edge[1]]\n",
    "            if temp > max_d:\n",
    "                max_d = temp\n",
    "        return max_d / 2\n",
    "\n",
    "    G = nx.from_pandas_edgelist(df, 'source_state_district', 'target_state_district', ['weight'])\n",
    "    df, least_eigenvalue = _get_xcoord(G, compact=False)\n",
    "    print(least_eigenvalue)\n",
    "    max_d = compute_d_max(G)\n",
    "    print(max_d)\n",
    "    eig = 1-(least_eigenvalue/(max_d-1))\n",
    "    return eig"
   ]
  },
  {
   "cell_type": "code",
   "execution_count": 42,
   "metadata": {},
   "outputs": [
    {
     "name": "stdout",
     "output_type": "stream",
     "text": [
      "389.0301\n",
      "394.0\n"
     ]
    },
    {
     "data": {
      "text/plain": [
       "0.010101526717557263"
      ]
     },
     "execution_count": 42,
     "metadata": {},
     "output_type": "execute_result"
    }
   ],
   "source": [
    "eig = compute_eigen(edgelist_prova_states)\n",
    "eig"
   ]
  },
  {
   "cell_type": "code",
   "execution_count": 44,
   "metadata": {},
   "outputs": [
    {
     "name": "stderr",
     "output_type": "stream",
     "text": [
      "100%|██████████| 77815/77815 [44:22<00:00, 29.22it/s]\n",
      " 33%|███▎      | 1/3 [44:23<1:28:47, 2663.62s/it]"
     ]
    },
    {
     "name": "stdout",
     "output_type": "stream",
     "text": [
      "389.0301\n",
      "394.0\n"
     ]
    },
    {
     "name": "stderr",
     "output_type": "stream",
     "text": [
      "100%|██████████| 77815/77815 [42:26<00:00, 30.56it/s]\n",
      " 67%|██████▋   | 2/3 [1:26:50<43:14, 2594.90s/it]"
     ]
    },
    {
     "name": "stdout",
     "output_type": "stream",
     "text": [
      "389.0301\n",
      "394.0\n"
     ]
    },
    {
     "name": "stderr",
     "output_type": "stream",
     "text": [
      "100%|██████████| 77815/77815 [42:02<00:00, 30.85it/s]\n",
      "100%|██████████| 3/3 [2:08:53<00:00, 2577.72s/it]"
     ]
    },
    {
     "name": "stdout",
     "output_type": "stream",
     "text": [
      "389.0301\n",
      "394.0\n"
     ]
    },
    {
     "name": "stderr",
     "output_type": "stream",
     "text": [
      "\n"
     ]
    }
   ],
   "source": [
    "# Create 100 edgelists\n",
    "num_edgelists = 3\n",
    "eigs = []\n",
    "\n",
    "for i in tqdm(range(num_edgelists)):\n",
    "    edgelist_states = create_edgelist_from_states(edgelist_prova_filtered, state_district_pairs)\n",
    "    eig = compute_eigen(edgelist_states)\n",
    "    eigs.append(eig)"
   ]
  },
  {
   "cell_type": "code",
   "execution_count": 42,
   "metadata": {},
   "outputs": [
    {
     "data": {
      "image/png": "[encoded data removed]",
      "text/plain": [
       "<Figure size 640x480 with 1 Axes>"
      ]
     },
     "metadata": {},
     "output_type": "display_data"
    }
   ],
   "source": [
    "# borduce a boxplot of the 100 eigenvalues\n",
    "plt.boxplot(eigs)\n",
    "plt.show()"
   ]
  },
  {
   "cell_type": "code",
   "execution_count": null,
   "metadata": {},
   "outputs": [],
   "source": []
  }
 ],
 "metadata": {
  "kernelspec": {
   "display_name": "USA_Congress_SigNetEnv",
   "language": "python",
   "name": "python3"
  },
  "language_info": {
   "codemirror_mode": {
    "name": "ipython",
    "version": 3
   },
   "file_extension": ".py",
   "mimetype": "text/x-python",
   "name": "python",
   "nbconvert_exporter": "python",
   "pygments_lexer": "ipython3",
   "version": "3.11.5"
  }
 },
 "nbformat": 4,
 "nbformat_minor": 2
}
