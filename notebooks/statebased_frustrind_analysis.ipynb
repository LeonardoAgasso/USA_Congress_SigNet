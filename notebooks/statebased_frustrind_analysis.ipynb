{
 "cells": [
  {
   "cell_type": "markdown",
   "metadata": {},
   "source": [
    "## Use states as voters instead of congressmen"
   ]
  },
  {
   "cell_type": "code",
   "execution_count": 2,
   "metadata": {},
   "outputs": [],
   "source": [
    "import pandas as pd\n",
    "import networkx as nx\n",
    "import numpy as np\n",
    "import re\n",
    "\n",
    "import glob, os\n",
    "import itertools\n",
    "from tqdm import tqdm\n",
    "\n",
    "import matplotlib.pyplot as plt\n",
    "from scipy.stats import gaussian_kde\n",
    "from shapely.geometry import LineString\n",
    "\n",
    "import shapely"
   ]
  },
  {
   "cell_type": "code",
   "execution_count": 3,
   "metadata": {},
   "outputs": [],
   "source": [
    "mmb = pd.read_csv('../dataset/HSall_members.csv')\n",
    "pc = pd.read_csv('../dataset/HSall_parties.csv')"
   ]
  },
  {
   "cell_type": "code",
   "execution_count": 4,
   "metadata": {},
   "outputs": [],
   "source": [
    "def create_members_df():\n",
    "    temp_congress = mmb.groupby('icpsr', as_index=False)[['congress']].agg(lambda x: list(x))\n",
    "    temp_party = mmb.groupby('icpsr', as_index=False)[['party_code']].agg(lambda x: list(set(x)))\n",
    "    temp_congress = temp_congress.merge(temp_party)\n",
    "    temp_congress['bioname'] = temp_congress['icpsr'].map(mmb[['icpsr', 'bioname']].set_index('icpsr').to_dict()['bioname'])\n",
    "    temp_congress['state_abbrev'] = temp_congress['icpsr'].map(mmb[['icpsr', 'state_abbrev']].set_index('icpsr').to_dict()['state_abbrev'])\n",
    "    party_codes_dic = pc[['party_name', 'party_code']].set_index('party_code').to_dict()['party_name']\n",
    "    temp_congress['party_name'] = temp_congress['party_code'].apply(lambda x: [party_codes_dic[y] for y in x])\n",
    "    return temp_congress\n",
    "\n",
    "members = create_members_df()"
   ]
  },
  {
   "cell_type": "markdown",
   "metadata": {},
   "source": [
    "_________________________________________________________________________________________________"
   ]
  },
  {
   "cell_type": "code",
   "execution_count": 5,
   "metadata": {},
   "outputs": [],
   "source": [
    "members2state_dic = members.set_index('icpsr')['state_abbrev'].to_dict()\n",
    "members_party_dict = members.set_index('icpsr')['party_name'].to_dict()"
   ]
  },
  {
   "cell_type": "code",
   "execution_count": 6,
   "metadata": {},
   "outputs": [],
   "source": [
    "# try for congress 110\n",
    "congress_110 = pd.read_csv('../dataset/download_votes_merged/congress_110.csv')"
   ]
  },
  {
   "cell_type": "code",
   "execution_count": 7,
   "metadata": {},
   "outputs": [],
   "source": [
    "# add the column of state_abbrev translating the icpsr\n",
    "congress_110['state_abbrev'] = congress_110['icpsr'].map(members2state_dic)"
   ]
  },
  {
   "cell_type": "code",
   "execution_count": 9,
   "metadata": {},
   "outputs": [
    {
     "ename": "SyntaxError",
     "evalue": "invalid syntax. Perhaps you forgot a comma? (3036106976.py, line 11)",
     "output_type": "error",
     "traceback": [
      "\u001b[0;36m  Cell \u001b[0;32mIn[9], line 11\u001b[0;36m\u001b[0m\n\u001b[0;31m    y = pd.DataFrame(y, columns = ['source', 'rn 'accord' if source_statarget'])\u001b[0m\n\u001b[0m                                             ^\u001b[0m\n\u001b[0;31mSyntaxError\u001b[0m\u001b[0;31m:\u001b[0m invalid syntax. Perhaps you forgot a comma?\n"
     ]
    }
   ],
   "source": [
    "edgelist = pd.DataFrame()\n",
    "\n",
    "for v in tqdm(set(congress_77['id'])):\n",
    "    temp = congress_77[congress_77['id']==v]\n",
    "    yy = temp[temp['vote']=='Yea']['icpsr']\n",
    "    nn = temp[temp['vote']=='Nay']['icpsr']\n",
    "    y = itertools.combinations(yy, 2)\n",
    "    n = itertools.combinations(nn, 2)\n",
    "    o = itertools.product(yy, nn)\n",
    "\n",
    "    y = pd.DataFrame(y, columns = ['source', 'target'])\n",
    "    y['weight'] = 1\n",
    "    y['count'] = 1\n",
    "    n = pd.DataFrame(n, columns = ['source', 'target'])\n",
    "    n['weight'] = 1\n",
    "    n['count'] = 1\n",
    "    o = pd.DataFrame(o, columns = ['source', 'target'])\n",
    "    o['weight'] = -1\n",
    "    o['count'] = 1\n",
    "\n",
    "    edgelist = pd.concat([edgelist, y, n, o])\n",
    "    \n",
    "\n",
    "edgelist = pd.concat([edgelist, pd.DataFrame({\n",
    "        'source': edgelist['target'],\n",
    "        'target': edgelist['source'],\n",
    "        'weight': edgelist['weight'],\n",
    "        'count': edgelist['count']})])\n",
    "\n",
    "edgelist = edgelist.loc[edgelist['source'] < edgelist['target']]\n",
    "edgelist = edgelist.groupby(['source', 'target', 'weight']).sum().reset_index()\n",
    "edgelist = edgelist.groupby(['source', 'target', 'weight']).sum().reset_index()\n",
    "edgelist['party'] = edgelist.apply(lambda row: 'in' if members_party_dict[row['source']] == members_party_dict[row['target']] else 'out', axis=1)\n",
    "edgelist['state'] = edgelist.apply(lambda row: 'in' if members2state_dic[row['source']] == members2state_dic[row['target']] else 'out', axis=1)\n",
    "map_votes = edgelist.groupby(['source', 'target'])['count'].sum().to_dict()\n",
    "edgelist['votes_togheter'] = edgelist[['source', 'target']].apply(lambda x: map_votes[(x['source'], x['target'])], axis=1)\n",
    "edgelist['perc'] = edgelist['count']/edgelist['votes_togheter']"
   ]
  },
  {
   "cell_type": "code",
   "execution_count": null,
   "metadata": {},
   "outputs": [],
   "source": [
    "# translate the source and target to state_abbrev\n",
    "edgelist['source_state'] = edgelist['source'].map(members2state_dic)\n",
    "edgelist['target_state'] = edgelist['target'].map(members2state_dic)\n",
    "\n",
    "# collapse the edgelist to state-based, the signed network should have +1 if more than 50% of the votes are in the same direction, -1 otherwise. report the percentage of votes in the same direction\n",
    "edgelist_state = edgelist.groupby(['source_state', 'target_state', 'weight']).sum().reset_index()"
   ]
  }
 ],
 "metadata": {
  "kernelspec": {
   "display_name": "USA_Congress_SigNetEnv",
   "language": "python",
   "name": "python3"
  },
  "language_info": {
   "codemirror_mode": {
    "name": "ipython",
    "version": 3
   },
   "file_extension": ".py",
   "mimetype": "text/x-python",
   "name": "python",
   "nbconvert_exporter": "python",
   "pygments_lexer": "ipython3",
   "version": "3.11.5"
  }
 },
 "nbformat": 4,
 "nbformat_minor": 2
}
