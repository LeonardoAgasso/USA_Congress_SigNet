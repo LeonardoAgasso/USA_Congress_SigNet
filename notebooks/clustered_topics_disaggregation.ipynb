{
 "cells": [
  {
   "cell_type": "markdown",
   "metadata": {},
   "source": [
    "# Topic disaggregation\n",
    "\n",
    "### Repeat the same process on data previously disaggregated according to the categories of the vote"
   ]
  },
  {
   "cell_type": "code",
   "execution_count": 2,
   "metadata": {},
   "outputs": [],
   "source": [
    "import pandas as pd\n",
    "import networkx as nx\n",
    "import numpy as np\n",
    "import re\n",
    "\n",
    "import glob, os\n",
    "import itertools\n",
    "from tqdm import tqdm\n",
    "\n",
    "import matplotlib.pyplot as plt\n",
    "from scipy.stats import gaussian_kde\n",
    "import seaborn as sns\n",
    "from shapely.geometry import LineString\n",
    "from matplotlib.lines import Line2D\n",
    "\n",
    "import shutil"
   ]
  },
  {
   "cell_type": "code",
   "execution_count": 3,
   "metadata": {},
   "outputs": [],
   "source": [
    "import sys\n",
    "sys.path.insert(0, '../local/bin')"
   ]
  },
  {
   "cell_type": "markdown",
   "metadata": {},
   "source": [
    "Merge categories into \"clustered topics\""
   ]
  },
  {
   "cell_type": "code",
   "execution_count": 4,
   "metadata": {},
   "outputs": [],
   "source": [
    "def merge_congress_files(folder_names, merged_folder_name):\n",
    "    # Create the merged folder if it doesn't exist\n",
    "    if not os.path.exists(merged_folder_name):\n",
    "        os.makedirs(merged_folder_name)\n",
    "\n",
    "    for category in folder_names:\n",
    "        category_folder = os.path.join(os.getcwd(), category)\n",
    "        merged_folder = os.path.join(os.getcwd(), merged_folder_name)\n",
    "\n",
    "        # Iterate through the files in the category folder\n",
    "        for root, _, files in os.walk(category_folder):\n",
    "            for file in files:\n",
    "                if file.startswith(\"congress_\") and file.endswith(\".csv\"):\n",
    "                    congress_number = int(file.split(\"_\")[1].split(\".\")[0])\n",
    "                    congress_file = os.path.join(root, file)\n",
    "                    merged_congress_file = os.path.join(merged_folder, f\"congress_{congress_number}.csv\")\n",
    "\n",
    "                    # If the file already exists in the merged folder, append data\n",
    "                    if os.path.exists(merged_congress_file):\n",
    "                        existing_data = pd.read_csv(merged_congress_file)\n",
    "                        new_data = pd.read_csv(congress_file)\n",
    "                        merged_data = pd.concat([existing_data, new_data], ignore_index=True)\n",
    "                        merged_data.to_csv(merged_congress_file, index=False)\n",
    "                    else:\n",
    "                        # If the file doesn't exist in the merged folder, copy it\n",
    "                        shutil.copy(congress_file, merged_folder)"
   ]
  },
  {
   "cell_type": "code",
   "execution_count": null,
   "metadata": {},
   "outputs": [],
   "source": [
    "# Example usage:\n",
    "category_folders = [\"../dataset/votes_house_clausen/Civil_Liberties/\", \"../dataset/votes_house_clausen/Miscellaneous_Policy/\", \"../dataset/votes_house_clausen/Government_Management/\"]\n",
    "merged_folder = \"../dataset/try_merged/\"\n",
    "merge_congress_files(category_folders, merged_folder)"
   ]
  },
  {
   "cell_type": "markdown",
   "metadata": {},
   "source": [
    "Generate meaningful sets listing the categories belonging to each set:"
   ]
  },
  {
   "cell_type": "code",
   "execution_count": 10,
   "metadata": {},
   "outputs": [],
   "source": [
    "chamber = 'house'\n",
    "category_set = 'peltzman'\n",
    "p = '../dataset/votes_'+chamber+'_'+category_set+'/'"
   ]
  },
  {
   "cell_type": "code",
   "execution_count": 11,
   "metadata": {},
   "outputs": [
    {
     "name": "stdout",
     "output_type": "stream",
     "text": [
      "../dataset/votes_house_peltzman/\n"
     ]
    }
   ],
   "source": [
    "print(p)"
   ]
  },
  {
   "cell_type": "code",
   "execution_count": 12,
   "metadata": {},
   "outputs": [],
   "source": [
    "internal = [p+'Budget_General_Interest/', \n",
    "\t\t\tp+'Budget_Special_Interest/',\n",
    "\t\t\tp+'Regulation_General_Interest/', \n",
    "\t\t\tp+'Regulation_Special_Interest/', \n",
    "\t\t\tp+'Domestic_Social_Policy/', \n",
    "\t\t\tp+'Government_Organization/',\n",
    "\t\t\tp+'Internal_Organization/',\n",
    "\t\t\tp+'D._C./']\n",
    "foreign = [\tp+'Defense_Policy_Budget/',\n",
    "\t\t\tp+'Defense_Policy_Resolution/',\n",
    "\t\t\tp+'Foreign_Policy_Budget/',\n",
    "\t\t\tp+'Foreign_Policy_Resolution/',\n",
    "\t\t   \tp+'Indian_Affairs/']\n",
    "\n",
    "internal_folder = p+'internal/'\n",
    "foreign_folder = p+'foreign/'\n"
   ]
  },
  {
   "cell_type": "code",
   "execution_count": 13,
   "metadata": {},
   "outputs": [
    {
     "name": "stderr",
     "output_type": "stream",
     "text": [
      "/tmp/ipykernel_1028/1987237459.py:21: DtypeWarning: Columns (5) have mixed types. Specify dtype option on import or set low_memory=False.\n",
      "  new_data = pd.read_csv(congress_file)\n"
     ]
    }
   ],
   "source": [
    "if not os.path.exists(internal_folder):\n",
    "\tos.makedirs(internal_folder)\n",
    "\n",
    "if not os.path.exists(foreign_folder):\n",
    "\tos.makedirs(foreign_folder)\n",
    "\n",
    "merge_congress_files(internal, internal_folder)\n",
    "merge_congress_files(foreign, foreign_folder)"
   ]
  },
  {
   "cell_type": "code",
   "execution_count": null,
   "metadata": {},
   "outputs": [],
   "source": []
  }
 ],
 "metadata": {
  "kernelspec": {
   "display_name": "USA_Congress_SigNetEnv",
   "language": "python",
   "name": "python3"
  },
  "language_info": {
   "codemirror_mode": {
    "name": "ipython",
    "version": 3
   },
   "file_extension": ".py",
   "mimetype": "text/x-python",
   "name": "python",
   "nbconvert_exporter": "python",
   "pygments_lexer": "ipython3",
   "version": "3.11.5"
  },
  "orig_nbformat": 4
 },
 "nbformat": 4,
 "nbformat_minor": 2
}
