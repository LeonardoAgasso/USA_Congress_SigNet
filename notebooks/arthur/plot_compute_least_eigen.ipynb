{
 "cells": [
  {
   "cell_type": "code",
   "execution_count": 2,
   "id": "f83b5634-923b-4ae6-837a-b2d84796fa3a",
   "metadata": {},
   "outputs": [],
   "source": [
    "import networkx as nx\n",
    "import pandas as pd\n",
    "from matplotlib import pyplot as plt"
   ]
  },
  {
   "cell_type": "code",
   "execution_count": 3,
   "id": "28a8475b-2813-4b1c-99a3-bb5e8693f342",
   "metadata": {},
   "outputs": [],
   "source": [
    "import sys\n",
    "sys.path.append('../../local/bin/')"
   ]
  },
  {
   "cell_type": "code",
   "execution_count": 4,
   "id": "fc65db91-9b03-4193-86ea-d91c29c8696f",
   "metadata": {},
   "outputs": [],
   "source": [
    "from sygno.signed_networkx import draw_signed_networkx"
   ]
  },
  {
   "cell_type": "code",
   "execution_count": 5,
   "id": "c0ed9ed2-1fe9-40f7-b7bb-4c44aa254f33",
   "metadata": {},
   "outputs": [],
   "source": [
    "def draw_graph(df, pol_dic, congress_num):\n",
    "    G = nx.from_pandas_edgelist(df, 'source', 'target', ['weight'])\n",
    "\n",
    "    nodeData = {list(g.icpsr)[0]: {'state': list(g.state_abbrev)[0], 'party': list(g.party_name)[0], 'color': list(g.color)[0],  'congress': list(g.congress)[0], 'name': list(g.bioname)[0]} for k, g in pol.groupby('icpsr')}\n",
    "    nx.set_node_attributes(G, nodeData)\n",
    "\n",
    "    colors = [node[1]['color'] for node in G.nodes(data=True)]\n",
    "    \n",
    "    fig, ax, pos, least_eigenvalue = draw_signed_networkx(G, node_color=colors, compact = True, theme=\"white\", normalize=True, scale='log', jittering=0.01, margin=0.2, show_rotation=False, highlight_edges='frustrated', remove_n_outliers=3,sort_by='party');\n",
    "    \n",
    "    # print infos about users per party\n",
    "    positions_party = {'pos': {'Democrat': 0,'Republican':0}, 'neg': {'Democrat': 0,'Republican':0}}\n",
    "    for p in pos.keys():\n",
    "        if pos[p].x > 0:\n",
    "            if pol_dic[int(p)]['party_name'] == 'Democrat' or pol_dic[int(p)]['party_name'] == 'Republican':\n",
    "                positions_party['pos'][pol_dic[int(p)]['party_name']] += 1\n",
    "        else:\n",
    "            if pol_dic[int(p)]['party_name'] == 'party_name' or pol_dic[int(p)]['party_name'] == 'Republican':\n",
    "                positions_party['neg'][pol_dic[int(p)]['party_name']] += 1\n",
    "\n",
    "    plt.text(0, .04, \"Rep: \"+str(positions_party['neg']['Republican']), fontsize=13, transform=ax.transAxes, color=\"ghostwhite\")\n",
    "    plt.text(0, .09, \"Dem: \"+str(positions_party['neg']['Democrat']), fontsize=13, transform=ax.transAxes, color=\"ghostwhite\")\n",
    "\n",
    "    plt.text(0.9, .04, \"Rep: \"+str(positions_party['pos']['Republican']), fontsize=13, transform=ax.transAxes, color=\"ghostwhite\")\n",
    "    plt.text(0.9, .09, \"Dem: \"+str(positions_party['pos']['Democrat']), fontsize=13, transform=ax.transAxes, color=\"ghostwhite\")\n",
    "    \n",
    "\n",
    "    plt.show()"
   ]
  },
  {
   "cell_type": "code",
   "execution_count": 6,
   "id": "5316e665",
   "metadata": {},
   "outputs": [],
   "source": [
    "dataset_folder = '../../dataset/'"
   ]
  },
  {
   "cell_type": "code",
   "execution_count": 7,
   "id": "92e6046a-df70-47b2-b0ba-3a3e3d97a7c9",
   "metadata": {},
   "outputs": [],
   "source": [
    "pol = pd.read_csv(dataset_folder + 'members.csv')\n",
    "\n",
    "pol['color'] = pol['party_name'].apply(lambda x: 'firebrick' if 'Republican' in x else ('royalblue' if 'Democrat' in x else 'yellow'))"
   ]
  },
  {
   "cell_type": "code",
   "execution_count": 8,
   "id": "455b6503-3ff7-4dc7-8f1d-c585c0d0a761",
   "metadata": {},
   "outputs": [
    {
     "data": {
      "text/html": [
       "<div>\n",
       "<style scoped>\n",
       "    .dataframe tbody tr th:only-of-type {\n",
       "        vertical-align: middle;\n",
       "    }\n",
       "\n",
       "    .dataframe tbody tr th {\n",
       "        vertical-align: top;\n",
       "    }\n",
       "\n",
       "    .dataframe thead th {\n",
       "        text-align: right;\n",
       "    }\n",
       "</style>\n",
       "<table border=\"1\" class=\"dataframe\">\n",
       "  <thead>\n",
       "    <tr style=\"text-align: right;\">\n",
       "      <th></th>\n",
       "      <th>icpsr</th>\n",
       "      <th>congress</th>\n",
       "      <th>party_code</th>\n",
       "      <th>bioname</th>\n",
       "      <th>state_abbrev</th>\n",
       "      <th>party_name</th>\n",
       "      <th>color</th>\n",
       "    </tr>\n",
       "  </thead>\n",
       "  <tbody>\n",
       "    <tr>\n",
       "      <th>0</th>\n",
       "      <td>1</td>\n",
       "      <td>[82]</td>\n",
       "      <td>[200]</td>\n",
       "      <td>AANDAHL, Fred George</td>\n",
       "      <td>ND</td>\n",
       "      <td>['Republican']</td>\n",
       "      <td>firebrick</td>\n",
       "    </tr>\n",
       "    <tr>\n",
       "      <th>1</th>\n",
       "      <td>2</td>\n",
       "      <td>[80, 81, 82, 83, 84, 85, 86, 87, 88, 89, 90, 9...</td>\n",
       "      <td>[100]</td>\n",
       "      <td>ABBITT, Watkins Moorman</td>\n",
       "      <td>VA</td>\n",
       "      <td>['Democrat']</td>\n",
       "      <td>royalblue</td>\n",
       "    </tr>\n",
       "    <tr>\n",
       "      <th>2</th>\n",
       "      <td>3</td>\n",
       "      <td>[28, 29, 30]</td>\n",
       "      <td>[29]</td>\n",
       "      <td>ABBOTT, Amos</td>\n",
       "      <td>MA</td>\n",
       "      <td>['Whig']</td>\n",
       "      <td>yellow</td>\n",
       "    </tr>\n",
       "    <tr>\n",
       "      <th>3</th>\n",
       "      <td>4</td>\n",
       "      <td>[50, 51, 52, 53, 54]</td>\n",
       "      <td>[100]</td>\n",
       "      <td>ABBOTT, Jo (Joseph)</td>\n",
       "      <td>TX</td>\n",
       "      <td>['Democrat']</td>\n",
       "      <td>royalblue</td>\n",
       "    </tr>\n",
       "    <tr>\n",
       "      <th>4</th>\n",
       "      <td>5</td>\n",
       "      <td>[15, 16, 17, 18]</td>\n",
       "      <td>[7777, 13]</td>\n",
       "      <td>ABBOT, Joel</td>\n",
       "      <td>GA</td>\n",
       "      <td>['Crawford Republican', 'Democrat-Republican']</td>\n",
       "      <td>firebrick</td>\n",
       "    </tr>\n",
       "  </tbody>\n",
       "</table>\n",
       "</div>"
      ],
      "text/plain": [
       "   icpsr                                           congress  party_code  \\\n",
       "0      1                                               [82]       [200]   \n",
       "1      2  [80, 81, 82, 83, 84, 85, 86, 87, 88, 89, 90, 9...       [100]   \n",
       "2      3                                       [28, 29, 30]        [29]   \n",
       "3      4                               [50, 51, 52, 53, 54]       [100]   \n",
       "4      5                                   [15, 16, 17, 18]  [7777, 13]   \n",
       "\n",
       "                   bioname state_abbrev  \\\n",
       "0     AANDAHL, Fred George           ND   \n",
       "1  ABBITT, Watkins Moorman           VA   \n",
       "2             ABBOTT, Amos           MA   \n",
       "3      ABBOTT, Jo (Joseph)           TX   \n",
       "4              ABBOT, Joel           GA   \n",
       "\n",
       "                                       party_name      color  \n",
       "0                                  ['Republican']  firebrick  \n",
       "1                                    ['Democrat']  royalblue  \n",
       "2                                        ['Whig']     yellow  \n",
       "3                                    ['Democrat']  royalblue  \n",
       "4  ['Crawford Republican', 'Democrat-Republican']  firebrick  "
      ]
     },
     "execution_count": 8,
     "metadata": {},
     "output_type": "execute_result"
    }
   ],
   "source": [
    "pol_dic = pol[['icpsr', 'party_name']].set_index('icpsr').to_dict(orient=\"index\")\n",
    "pol.head()"
   ]
  },
  {
   "cell_type": "code",
   "execution_count": 9,
   "id": "adf0e147-8864-4d80-93a1-a9a39705a037",
   "metadata": {},
   "outputs": [],
   "source": [
    "def read_edgelist(folder, threshold_pos, threshold_neg, congress_num):\n",
    "    # read edgelist\n",
    "    df = pd.read_csv(folder)\n",
    "    df_pos = df.loc[(df['weight']==1)&(df['perc']>threshold_pos)].copy()\n",
    "    df_neg = df.loc[(df['weight']==-1)&(df['perc']>threshold_neg)].copy()\n",
    "    df = pd.concat([df_pos, df_neg])\n",
    "\n",
    "    draw_graph(df, pol, congress_num)"
   ]
  },
  {
   "cell_type": "code",
   "execution_count": 10,
   "id": "e9845f24-9c00-417b-84d7-5b17af46815b",
   "metadata": {},
   "outputs": [
    {
     "ename": "FileNotFoundError",
     "evalue": "[Errno 2] No such file or directory: 'edgelists/77_dic_thresholds_norm.csv'",
     "output_type": "error",
     "traceback": [
      "\u001b[0;31m---------------------------------------------------------------------------\u001b[0m",
      "\u001b[0;31mFileNotFoundError\u001b[0m                         Traceback (most recent call last)",
      "\u001b[1;32m/home/leonardo/projects/USA_Congress_SigNet/notebooks/arthur/plot_compute_least_eigen.ipynb Cell 9\u001b[0m line \u001b[0;36m2\n\u001b[1;32m      <a href='vscode-notebook-cell://wsl%2Bubuntu/home/leonardo/projects/USA_Congress_SigNet/notebooks/arthur/plot_compute_least_eigen.ipynb#X10sdnNjb2RlLXJlbW90ZQ%3D%3D?line=0'>1</a>\u001b[0m cong \u001b[39m=\u001b[39m \u001b[39m'\u001b[39m\u001b[39m77\u001b[39m\u001b[39m'\u001b[39m\n\u001b[0;32m----> <a href='vscode-notebook-cell://wsl%2Bubuntu/home/leonardo/projects/USA_Congress_SigNet/notebooks/arthur/plot_compute_least_eigen.ipynb#X10sdnNjb2RlLXJlbW90ZQ%3D%3D?line=1'>2</a>\u001b[0m temp \u001b[39m=\u001b[39m pd\u001b[39m.\u001b[39;49mread_csv(\u001b[39m'\u001b[39;49m\u001b[39medgelists/77_dic_thresholds_norm.csv\u001b[39;49m\u001b[39m'\u001b[39;49m)\n\u001b[1;32m      <a href='vscode-notebook-cell://wsl%2Bubuntu/home/leonardo/projects/USA_Congress_SigNet/notebooks/arthur/plot_compute_least_eigen.ipynb#X10sdnNjb2RlLXJlbW90ZQ%3D%3D?line=2'>3</a>\u001b[0m threshold_pos \u001b[39m=\u001b[39m temp\u001b[39m.\u001b[39miloc[\u001b[39m0\u001b[39m][\u001b[39m'\u001b[39m\u001b[39mthreshold_pos\u001b[39m\u001b[39m'\u001b[39m]\n\u001b[1;32m      <a href='vscode-notebook-cell://wsl%2Bubuntu/home/leonardo/projects/USA_Congress_SigNet/notebooks/arthur/plot_compute_least_eigen.ipynb#X10sdnNjb2RlLXJlbW90ZQ%3D%3D?line=3'>4</a>\u001b[0m threshold_neg \u001b[39m=\u001b[39m temp\u001b[39m.\u001b[39miloc[\u001b[39m0\u001b[39m][\u001b[39m'\u001b[39m\u001b[39mthreshold_neg\u001b[39m\u001b[39m'\u001b[39m]\n",
      "File \u001b[0;32m~/anaconda3/envs/USA_Congress_SigNetEnv/lib/python3.11/site-packages/pandas/io/parsers/readers.py:912\u001b[0m, in \u001b[0;36mread_csv\u001b[0;34m(filepath_or_buffer, sep, delimiter, header, names, index_col, usecols, dtype, engine, converters, true_values, false_values, skipinitialspace, skiprows, skipfooter, nrows, na_values, keep_default_na, na_filter, verbose, skip_blank_lines, parse_dates, infer_datetime_format, keep_date_col, date_parser, date_format, dayfirst, cache_dates, iterator, chunksize, compression, thousands, decimal, lineterminator, quotechar, quoting, doublequote, escapechar, comment, encoding, encoding_errors, dialect, on_bad_lines, delim_whitespace, low_memory, memory_map, float_precision, storage_options, dtype_backend)\u001b[0m\n\u001b[1;32m    899\u001b[0m kwds_defaults \u001b[39m=\u001b[39m _refine_defaults_read(\n\u001b[1;32m    900\u001b[0m     dialect,\n\u001b[1;32m    901\u001b[0m     delimiter,\n\u001b[0;32m   (...)\u001b[0m\n\u001b[1;32m    908\u001b[0m     dtype_backend\u001b[39m=\u001b[39mdtype_backend,\n\u001b[1;32m    909\u001b[0m )\n\u001b[1;32m    910\u001b[0m kwds\u001b[39m.\u001b[39mupdate(kwds_defaults)\n\u001b[0;32m--> 912\u001b[0m \u001b[39mreturn\u001b[39;00m _read(filepath_or_buffer, kwds)\n",
      "File \u001b[0;32m~/anaconda3/envs/USA_Congress_SigNetEnv/lib/python3.11/site-packages/pandas/io/parsers/readers.py:577\u001b[0m, in \u001b[0;36m_read\u001b[0;34m(filepath_or_buffer, kwds)\u001b[0m\n\u001b[1;32m    574\u001b[0m _validate_names(kwds\u001b[39m.\u001b[39mget(\u001b[39m\"\u001b[39m\u001b[39mnames\u001b[39m\u001b[39m\"\u001b[39m, \u001b[39mNone\u001b[39;00m))\n\u001b[1;32m    576\u001b[0m \u001b[39m# Create the parser.\u001b[39;00m\n\u001b[0;32m--> 577\u001b[0m parser \u001b[39m=\u001b[39m TextFileReader(filepath_or_buffer, \u001b[39m*\u001b[39;49m\u001b[39m*\u001b[39;49mkwds)\n\u001b[1;32m    579\u001b[0m \u001b[39mif\u001b[39;00m chunksize \u001b[39mor\u001b[39;00m iterator:\n\u001b[1;32m    580\u001b[0m     \u001b[39mreturn\u001b[39;00m parser\n",
      "File \u001b[0;32m~/anaconda3/envs/USA_Congress_SigNetEnv/lib/python3.11/site-packages/pandas/io/parsers/readers.py:1407\u001b[0m, in \u001b[0;36mTextFileReader.__init__\u001b[0;34m(self, f, engine, **kwds)\u001b[0m\n\u001b[1;32m   1404\u001b[0m     \u001b[39mself\u001b[39m\u001b[39m.\u001b[39moptions[\u001b[39m\"\u001b[39m\u001b[39mhas_index_names\u001b[39m\u001b[39m\"\u001b[39m] \u001b[39m=\u001b[39m kwds[\u001b[39m\"\u001b[39m\u001b[39mhas_index_names\u001b[39m\u001b[39m\"\u001b[39m]\n\u001b[1;32m   1406\u001b[0m \u001b[39mself\u001b[39m\u001b[39m.\u001b[39mhandles: IOHandles \u001b[39m|\u001b[39m \u001b[39mNone\u001b[39;00m \u001b[39m=\u001b[39m \u001b[39mNone\u001b[39;00m\n\u001b[0;32m-> 1407\u001b[0m \u001b[39mself\u001b[39m\u001b[39m.\u001b[39m_engine \u001b[39m=\u001b[39m \u001b[39mself\u001b[39;49m\u001b[39m.\u001b[39;49m_make_engine(f, \u001b[39mself\u001b[39;49m\u001b[39m.\u001b[39;49mengine)\n",
      "File \u001b[0;32m~/anaconda3/envs/USA_Congress_SigNetEnv/lib/python3.11/site-packages/pandas/io/parsers/readers.py:1661\u001b[0m, in \u001b[0;36mTextFileReader._make_engine\u001b[0;34m(self, f, engine)\u001b[0m\n\u001b[1;32m   1659\u001b[0m     \u001b[39mif\u001b[39;00m \u001b[39m\"\u001b[39m\u001b[39mb\u001b[39m\u001b[39m\"\u001b[39m \u001b[39mnot\u001b[39;00m \u001b[39min\u001b[39;00m mode:\n\u001b[1;32m   1660\u001b[0m         mode \u001b[39m+\u001b[39m\u001b[39m=\u001b[39m \u001b[39m\"\u001b[39m\u001b[39mb\u001b[39m\u001b[39m\"\u001b[39m\n\u001b[0;32m-> 1661\u001b[0m \u001b[39mself\u001b[39m\u001b[39m.\u001b[39mhandles \u001b[39m=\u001b[39m get_handle(\n\u001b[1;32m   1662\u001b[0m     f,\n\u001b[1;32m   1663\u001b[0m     mode,\n\u001b[1;32m   1664\u001b[0m     encoding\u001b[39m=\u001b[39;49m\u001b[39mself\u001b[39;49m\u001b[39m.\u001b[39;49moptions\u001b[39m.\u001b[39;49mget(\u001b[39m\"\u001b[39;49m\u001b[39mencoding\u001b[39;49m\u001b[39m\"\u001b[39;49m, \u001b[39mNone\u001b[39;49;00m),\n\u001b[1;32m   1665\u001b[0m     compression\u001b[39m=\u001b[39;49m\u001b[39mself\u001b[39;49m\u001b[39m.\u001b[39;49moptions\u001b[39m.\u001b[39;49mget(\u001b[39m\"\u001b[39;49m\u001b[39mcompression\u001b[39;49m\u001b[39m\"\u001b[39;49m, \u001b[39mNone\u001b[39;49;00m),\n\u001b[1;32m   1666\u001b[0m     memory_map\u001b[39m=\u001b[39;49m\u001b[39mself\u001b[39;49m\u001b[39m.\u001b[39;49moptions\u001b[39m.\u001b[39;49mget(\u001b[39m\"\u001b[39;49m\u001b[39mmemory_map\u001b[39;49m\u001b[39m\"\u001b[39;49m, \u001b[39mFalse\u001b[39;49;00m),\n\u001b[1;32m   1667\u001b[0m     is_text\u001b[39m=\u001b[39;49mis_text,\n\u001b[1;32m   1668\u001b[0m     errors\u001b[39m=\u001b[39;49m\u001b[39mself\u001b[39;49m\u001b[39m.\u001b[39;49moptions\u001b[39m.\u001b[39;49mget(\u001b[39m\"\u001b[39;49m\u001b[39mencoding_errors\u001b[39;49m\u001b[39m\"\u001b[39;49m, \u001b[39m\"\u001b[39;49m\u001b[39mstrict\u001b[39;49m\u001b[39m\"\u001b[39;49m),\n\u001b[1;32m   1669\u001b[0m     storage_options\u001b[39m=\u001b[39;49m\u001b[39mself\u001b[39;49m\u001b[39m.\u001b[39;49moptions\u001b[39m.\u001b[39;49mget(\u001b[39m\"\u001b[39;49m\u001b[39mstorage_options\u001b[39;49m\u001b[39m\"\u001b[39;49m, \u001b[39mNone\u001b[39;49;00m),\n\u001b[1;32m   1670\u001b[0m )\n\u001b[1;32m   1671\u001b[0m \u001b[39massert\u001b[39;00m \u001b[39mself\u001b[39m\u001b[39m.\u001b[39mhandles \u001b[39mis\u001b[39;00m \u001b[39mnot\u001b[39;00m \u001b[39mNone\u001b[39;00m\n\u001b[1;32m   1672\u001b[0m f \u001b[39m=\u001b[39m \u001b[39mself\u001b[39m\u001b[39m.\u001b[39mhandles\u001b[39m.\u001b[39mhandle\n",
      "File \u001b[0;32m~/anaconda3/envs/USA_Congress_SigNetEnv/lib/python3.11/site-packages/pandas/io/common.py:859\u001b[0m, in \u001b[0;36mget_handle\u001b[0;34m(path_or_buf, mode, encoding, compression, memory_map, is_text, errors, storage_options)\u001b[0m\n\u001b[1;32m    854\u001b[0m \u001b[39melif\u001b[39;00m \u001b[39misinstance\u001b[39m(handle, \u001b[39mstr\u001b[39m):\n\u001b[1;32m    855\u001b[0m     \u001b[39m# Check whether the filename is to be opened in binary mode.\u001b[39;00m\n\u001b[1;32m    856\u001b[0m     \u001b[39m# Binary mode does not support 'encoding' and 'newline'.\u001b[39;00m\n\u001b[1;32m    857\u001b[0m     \u001b[39mif\u001b[39;00m ioargs\u001b[39m.\u001b[39mencoding \u001b[39mand\u001b[39;00m \u001b[39m\"\u001b[39m\u001b[39mb\u001b[39m\u001b[39m\"\u001b[39m \u001b[39mnot\u001b[39;00m \u001b[39min\u001b[39;00m ioargs\u001b[39m.\u001b[39mmode:\n\u001b[1;32m    858\u001b[0m         \u001b[39m# Encoding\u001b[39;00m\n\u001b[0;32m--> 859\u001b[0m         handle \u001b[39m=\u001b[39m \u001b[39mopen\u001b[39;49m(\n\u001b[1;32m    860\u001b[0m             handle,\n\u001b[1;32m    861\u001b[0m             ioargs\u001b[39m.\u001b[39;49mmode,\n\u001b[1;32m    862\u001b[0m             encoding\u001b[39m=\u001b[39;49mioargs\u001b[39m.\u001b[39;49mencoding,\n\u001b[1;32m    863\u001b[0m             errors\u001b[39m=\u001b[39;49merrors,\n\u001b[1;32m    864\u001b[0m             newline\u001b[39m=\u001b[39;49m\u001b[39m\"\u001b[39;49m\u001b[39m\"\u001b[39;49m,\n\u001b[1;32m    865\u001b[0m         )\n\u001b[1;32m    866\u001b[0m     \u001b[39melse\u001b[39;00m:\n\u001b[1;32m    867\u001b[0m         \u001b[39m# Binary mode\u001b[39;00m\n\u001b[1;32m    868\u001b[0m         handle \u001b[39m=\u001b[39m \u001b[39mopen\u001b[39m(handle, ioargs\u001b[39m.\u001b[39mmode)\n",
      "\u001b[0;31mFileNotFoundError\u001b[0m: [Errno 2] No such file or directory: 'edgelists/77_dic_thresholds_norm.csv'"
     ]
    }
   ],
   "source": [
    "cong = '77'\n",
    "temp = pd.read_csv('edgelists/77_dic_thresholds_norm.csv')\n",
    "threshold_pos = temp.iloc[0]['threshold_pos']\n",
    "threshold_neg = temp.iloc[0]['threshold_neg']\n",
    "\n",
    "read_edgelist('edgelists/congress_077.csv', threshold_pos, threshold_neg, cong)"
   ]
  },
  {
   "cell_type": "markdown",
   "id": "ea209a2a-6eb0-4e75-a900-3ac3547e424d",
   "metadata": {},
   "source": [
    "#### Compute normalized least eigenvalue"
   ]
  },
  {
   "cell_type": "code",
   "execution_count": 9,
   "id": "be9ea602-7b6b-4a15-a90e-f1473111dd8f",
   "metadata": {},
   "outputs": [],
   "source": [
    "from sygno.nodes_position import _get_xcoord"
   ]
  },
  {
   "cell_type": "code",
   "execution_count": 10,
   "id": "93d2d7aa-e9b8-4e14-a41d-b01cbd043a1f",
   "metadata": {},
   "outputs": [],
   "source": [
    "def compute_eigen(df):\n",
    "    def compute_d_max(G):\n",
    "        max_d = 0\n",
    "        for edge in G.edges(data=True):\n",
    "            temp = G.degree[edge[0]] + G.degree[edge[1]]\n",
    "            if temp > max_d:\n",
    "                max_d = temp\n",
    "        return max_d / 2\n",
    "\n",
    "    G = nx.from_pandas_edgelist(df, 'source', 'target', ['weight'])\n",
    "    df, least_eigenvalue = _get_xcoord(G, compact=False)\n",
    "    max_d = compute_d_max(G)\n",
    "    eig = 1-(least_eigenvalue/(max_d-1))\n",
    "    return eig"
   ]
  },
  {
   "cell_type": "code",
   "execution_count": 11,
   "id": "661426f1-d4f6-4374-a067-76cfcec00c56",
   "metadata": {},
   "outputs": [],
   "source": [
    "def read_edgelist_eigen(folder, threshold_pos, threshold_neg, congress_num):\n",
    "    # read edgelist\n",
    "    df = pd.read_csv(folder)\n",
    "    df_pos = df.loc[(df['weight']==1)&(df['perc']>threshold_pos)].copy()\n",
    "    df_neg = df.loc[(df['weight']==-1)&(df['perc']>threshold_neg)].copy()\n",
    "    df = pd.concat([df_pos, df_neg])\n",
    "\n",
    "    return compute_eigen(df)"
   ]
  },
  {
   "cell_type": "code",
   "execution_count": 12,
   "id": "d37f7462-8c46-4eec-bb59-63f542e5ccf2",
   "metadata": {},
   "outputs": [
    {
     "data": {
      "text/plain": [
       "0.8532929203539823"
      ]
     },
     "execution_count": 12,
     "metadata": {},
     "output_type": "execute_result"
    }
   ],
   "source": [
    "cong = '77'\n",
    "temp = pd.read_csv('edgelists/77_dic_thresholds_norm.csv')\n",
    "threshold_pos = temp.iloc[0]['threshold_pos']\n",
    "threshold_neg = temp.iloc[0]['threshold_neg']\n",
    "\n",
    "eig = read_edgelist_eigen('edgelists/congress_077.csv', threshold_pos, threshold_neg, cong)\n",
    "eig"
   ]
  }
 ],
 "metadata": {
  "kernelspec": {
   "display_name": "Python 3 (ipykernel)",
   "language": "python",
   "name": "python3"
  },
  "language_info": {
   "codemirror_mode": {
    "name": "ipython",
    "version": 3
   },
   "file_extension": ".py",
   "mimetype": "text/x-python",
   "name": "python",
   "nbconvert_exporter": "python",
   "pygments_lexer": "ipython3",
   "version": "3.11.5"
  }
 },
 "nbformat": 4,
 "nbformat_minor": 5
}
