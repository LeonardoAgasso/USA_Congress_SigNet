{
 "cells": [
  {
   "cell_type": "markdown",
   "metadata": {},
   "source": [
    "# Generate GIFs using the kde plots"
   ]
  },
  {
   "cell_type": "markdown",
   "metadata": {},
   "source": [
    "Here we use kde separated according to their clausen category but the procedure can be easily expanded to any folder in *dataset/kdeplots/*"
   ]
  },
  {
   "cell_type": "code",
   "execution_count": null,
   "metadata": {},
   "outputs": [],
   "source": [
    "import os\n",
    "import imageio\n",
    "import tqdm\n",
    "from tqdm import tqdm"
   ]
  },
  {
   "cell_type": "code",
   "execution_count": null,
   "metadata": {},
   "outputs": [],
   "source": [
    "chamber = 'house'\n",
    "category_set = 'clausen'\n",
    "category = 'Civil_Liberties'\n",
    "\n",
    "directory = '../dataset/kdeplots/' + chamber + '_' + category_set +'_kdeplots/' + category + '/'  # Replace with the actual path to the folder\n",
    "output_folder = '../gifs/' + chamber + '_' + category_set +'_gifs/' + category + '/'  # Replace with the actual path to the folder"
   ]
  },
  {
   "cell_type": "code",
   "execution_count": null,
   "metadata": {},
   "outputs": [],
   "source": [
    "disagree_files = []\n",
    "agree_files = []\n",
    "\n",
    "for i in tqdm(range(77, 116)):\n",
    "    agree_file = f'congress_{i}_agree.png'\n",
    "    disagree_file = f'congress_{i}_disagree.png'\n",
    "    \n",
    "    agree_file_path = os.path.join(directory, agree_file)\n",
    "    disagree_file_path = os.path.join(directory, disagree_file)\n",
    "    \n",
    "    if os.path.exists(agree_file_path):\n",
    "        agree_files.append(agree_file_path)\n",
    "    \n",
    "    if os.path.exists(disagree_file_path):\n",
    "        disagree_files.append(disagree_file_path)"
   ]
  },
  {
   "cell_type": "code",
   "execution_count": null,
   "metadata": {},
   "outputs": [],
   "source": [
    "dur = 0.4  # duration of each plot in the gif (modify as needed)"
   ]
  },
  {
   "cell_type": "code",
   "execution_count": null,
   "metadata": {},
   "outputs": [],
   "source": [
    "agree_gif_path = output_folder + '/agree.gif'\n",
    "agree_images = [imageio.imread(file) for file in tqdm(agree_files)]\n",
    "\n",
    "imageio.mimsave(agree_gif_path, agree_images, duration=dur)\t\t"
   ]
  },
  {
   "cell_type": "code",
   "execution_count": null,
   "metadata": {},
   "outputs": [],
   "source": [
    "disagree_gif_path = output_folder + '../disagree.gif'\n",
    "disagree_images = [imageio.imread(file) for file in tqdm(disagree_files)]\n",
    "\n",
    "imageio.mimsave(disagree_gif_path, disagree_images, duration=dur)"
   ]
  }
 ],
 "metadata": {
  "language_info": {
   "name": "python"
  }
 },
 "nbformat": 4,
 "nbformat_minor": 2
}
