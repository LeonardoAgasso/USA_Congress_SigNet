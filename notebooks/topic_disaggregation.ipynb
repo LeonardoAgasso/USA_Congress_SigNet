{
 "cells": [
  {
   "cell_type": "markdown",
   "metadata": {},
   "source": [
    "# Topic disaggregation\n",
    "\n",
    "### Repeat the same process on data previously disaggregated according to the categories of the vote"
   ]
  },
  {
   "cell_type": "code",
   "execution_count": 2,
   "metadata": {},
   "outputs": [],
   "source": [
    "import pandas as pd\n",
    "import networkx as nx\n",
    "import numpy as np\n",
    "import re\n",
    "\n",
    "import glob, os\n",
    "import itertools\n",
    "from tqdm import tqdm\n",
    "\n",
    "import matplotlib.pyplot as plt\n",
    "from scipy.stats import gaussian_kde\n",
    "import seaborn as sns\n",
    "from shapely.geometry import LineString\n",
    "from matplotlib.lines import Line2D"
   ]
  },
  {
   "cell_type": "code",
   "execution_count": 3,
   "metadata": {},
   "outputs": [],
   "source": [
    "import sys\n",
    "import importlib\n",
    "\n",
    "sys.path.insert(0, '../local/bin')\n",
    "\n",
    "import edgelist_creation\n",
    "from edgelist_creation import *"
   ]
  },
  {
   "cell_type": "code",
   "execution_count": 4,
   "metadata": {},
   "outputs": [
    {
     "data": {
      "text/plain": [
       "<module 'edgelist_creation' from '/home/leonardo/projects/USA_Congress_SigNet/notebooks/../local/bin/edgelist_creation.py'>"
      ]
     },
     "execution_count": 4,
     "metadata": {},
     "output_type": "execute_result"
    }
   ],
   "source": [
    "importlib.reload(edgelist_creation)"
   ]
  },
  {
   "cell_type": "code",
   "execution_count": 10,
   "metadata": {},
   "outputs": [],
   "source": [
    "members = pd.read_csv('../dataset/HSall_members.csv')\n",
    "party_codes = pd.read_csv('../dataset/HSall_parties.csv')\n",
    "\n",
    "members_info = create_members_df(members, party_codes)\n",
    "\n",
    "member_party_dict = members_info.set_index('icpsr')['party_name'].to_dict()\t\t# member_id -> party_name"
   ]
  },
  {
   "cell_type": "code",
   "execution_count": 11,
   "metadata": {},
   "outputs": [],
   "source": [
    "def create_df_from_congress(congress, members_party_dict):\n",
    "\tedgelist = pd.DataFrame()\n",
    "\n",
    "\tfor voteid in tqdm(set(congress['id'])):                 # iterate over all votes id (ids are unique for each vote)\n",
    "\n",
    "\t\ttemp = congress[congress['id'] == voteid]            # select the rows where the vote id is equal to the current vote id            \n",
    "\n",
    "\t\tyy = temp[temp['vote']=='Yea']['icpsr']              # select the icpsr of the members that voted \"Yea\"\n",
    "\t\tnn = temp[temp['vote']=='Nay']['icpsr']                         \n",
    "\n",
    "\t\ty = itertools.combinations(yy, 2)                    # all possible combinations of 2 members that voted \"Yea\"\n",
    "\t\tn = itertools.combinations(nn, 2)                \n",
    "\t\to = itertools.product(yy, nn)                        # cartesian product of the 2 series\n",
    "\n",
    "\t\ty = pd.DataFrame(y, columns = ['source', 'target'])  # create a dataframe from the combinations of \"Yea\" voters\n",
    "\t\ty['weight'] = 1                                      # add a column with the weight of the edge\n",
    "\t\ty['count'] = 1                                         \n",
    "\n",
    "\t\tn = pd.DataFrame(n, columns = ['source', 'target'])     \n",
    "\t\tn['weight'] = 1                                         \n",
    "\t\tn['count'] = 1                                          \n",
    "\n",
    "\t\to = pd.DataFrame(o, columns = ['source', 'target'])     \n",
    "\t\to['weight'] = -1                                     # same but the link is negative                    \n",
    "\t\to['count'] = 1                                          \n",
    "\n",
    "\t\tedgelist = pd.concat([edgelist, y, n, o])                    \n",
    "\n",
    "\tedgelist = pd.concat([edgelist, pd.DataFrame({\n",
    "\t\t'source': edgelist['target'],                        # new columns based on old columns: \n",
    "\t\t'target': edgelist['source'],                        #   'newcolumn': dataframe['oldcolumn']\n",
    "\t\t'weight': edgelist['weight'],\n",
    "\t\t'count': edgelist['count']})])\n",
    "\n",
    "\tedgelist = edgelist.loc[edgelist['source'] < edgelist['target']]                    # remove duplicates\n",
    "\tedgelist = edgelist.groupby(['source', 'target', 'weight']).sum().reset_index()     # group by source, target and weight and sum the count\n",
    "\tedgelist['party'] = edgelist.apply(lambda row: 'in' if members_party_dict[row['source']] == members_party_dict[row['target']] else 'out', axis=1)   # create a column with the party of the edge\n",
    "\n",
    "\tmap_votes = edgelist.groupby(['source', 'target'])['count'].sum().to_dict()                                                                         # create a dictionary with the number of votes togheter for each pair of nodes                               \n",
    "\n",
    "\tedgelist['votes_togheter'] = edgelist[['source', 'target']].apply(lambda x: map_votes[(x['source'], x['target'])], axis=1)\n",
    "\tedgelist['perc'] = edgelist['count']/edgelist['votes_togheter']\n",
    "\n",
    "\treturn edgelist"
   ]
  },
  {
   "cell_type": "code",
   "execution_count": 12,
   "metadata": {},
   "outputs": [],
   "source": [
    "congress_path_senate = '../dataset/download_votes_merged/*'\n",
    "congress_path_senate = '../dataset/download_votes_merged_senate/*'\t# Path to all congresses files"
   ]
  },
  {
   "cell_type": "code",
   "execution_count": null,
   "metadata": {},
   "outputs": [],
   "source": [
    "# Initialize a weighted bipartite graph\n",
    "G = nx.Graph()\n",
    "\n",
    "# Iterate through each CSV file\n",
    "for csv_file in tqdm(glob.glob(congress_path)):\n",
    "    # Read the CSV file into a pandas DataFrame\n",
    "    df = pd.read_csv(csv_file)\n",
    "    \n",
    "    # Count the occurrences of each pair of Clausen and Peltzman categories\n",
    "    counts = df.groupby([\"Clausen\", \"Peltzman\"]).size().reset_index(name=\"count\")\n",
    "    \n",
    "    # Add edges to the graph with weights based on the counts\n",
    "    for _, row in counts.iterrows():\n",
    "        clausen_category = row[\"Clausen\"]\n",
    "        peltzman_category = row[\"Peltzman\"]\n",
    "        count = row[\"count\"]\n",
    "        \n",
    "        G.add_node(clausen_category, bipartite=0)\n",
    "        G.add_node(peltzman_category, bipartite=1)\n",
    "        G.add_edge(clausen_category, peltzman_category, weight=count)\n",
    "\n",
    "# Now you have a weighted bipartite graph (G) with edges representing the co-occurrences\n",
    "# between Clausen and Peltzman categories and weights representing the number of occurrences."
   ]
  },
  {
   "cell_type": "code",
   "execution_count": null,
   "metadata": {},
   "outputs": [],
   "source": [
    "print('Clausen categories: ', [n for n in G.nodes() if G.nodes[n]['bipartite'] == 0])\n",
    "print('Number of Clausen categories: ', len([n for n in G.nodes() if G.nodes[n]['bipartite'] == 0]))\n",
    "\n",
    "print('Peltzman categories: ', [n for n in G.nodes() if G.nodes[n]['bipartite'] == 1])\n",
    "print('Number of Peltzman categories: ', len([n for n in G.nodes() if G.nodes[n]['bipartite'] == 1]))"
   ]
  },
  {
   "cell_type": "code",
   "execution_count": null,
   "metadata": {},
   "outputs": [],
   "source": [
    "def compute_kde_threshold(df, weight):\n",
    "    \n",
    "\tdef _midpoint(p1, p2):\n",
    "\t\treturn {'x': (p1['x']+p2['x'])/2, 'y': (p1['y']+p2['y'])/2}\n",
    "\n",
    "\tdef line_intersection(in_state, out_state, intersect_points):\n",
    "\t\tindex_in = np.argmax(in_state[1])\n",
    "\t\tindex_out = np.argmax(out_state[1])\n",
    "\n",
    "        # points of the mean of the distributions \n",
    "\t\tpoint_in={'x': in_state[0][index_in], 'y': in_state[1][index_in]}\n",
    "\t\tpoint_out={'x': out_state[0][index_out], 'y': out_state[1][index_out]}\n",
    "\n",
    "        # medianpoint (mean of the means) of the two distributions\n",
    "\t\tmidpoint = _midpoint(point_in, point_out)\n",
    "        \n",
    "        #find index of intersection closer to midpoint\n",
    "\t\tindex_closer = np.argmin([np.sqrt( (p[0] - midpoint['x'])**2 + (p[1] - midpoint['y'])**2 ) for p in intersect_points])\n",
    "\n",
    "        # return x value of closer intersection\n",
    "\t\treturn intersect_points[index_closer][0]\n",
    "    \n",
    "\n",
    "\t#label = \"agree\" if weight == 1 else \"disagree\"\n",
    "\tx0 = df.loc[(df['state']=='in')&(df['weight'] == weight)]['perc']\n",
    "\tx1 = df.loc[(df['state']=='out')&(df['weight'] == weight)]['perc']\n",
    "\n",
    "\tbw = len(x0)**(-1./(2+4))\n",
    "\tkde0 = gaussian_kde(x0, bw_method=bw)\n",
    "\tbw = len(x1)**(-1./(2+4))\n",
    "\tkde1 = gaussian_kde(x1, bw_method=bw)\n",
    "\n",
    "\txmin = min(x0.min(), x1.min())\n",
    "\txmax = max(x0.max(), x1.max())\n",
    "\tdx = 0.2 * (xmax - xmin) # add a 20% margin, as the kde is wider than the data\n",
    "\txmin -= dx\n",
    "\txmax += dx\n",
    "\n",
    "\tx = np.linspace(xmin, xmax, 500)\n",
    "\tkde0_x = kde0(x)\n",
    "\tkde1_x = kde1(x)\n",
    "\n",
    "\tidx = np.argwhere(np.diff(np.sign(kde0_x - kde1_x))).flatten()\n",
    "\n",
    "\tthreshold = line_intersection([x, kde0_x], [x, kde0_x], [[x,y] for x,y in zip (x[idx], kde1_x[idx])])\n",
    "\n",
    "\treturn threshold"
   ]
  },
  {
   "cell_type": "markdown",
   "metadata": {},
   "source": [
    "find the thresholds for each congress"
   ]
  },
  {
   "cell_type": "code",
   "execution_count": 13,
   "metadata": {},
   "outputs": [
    {
     "ename": "NameError",
     "evalue": "name 'congress_path' is not defined",
     "output_type": "error",
     "traceback": [
      "\u001b[0;31m---------------------------------------------------------------------------\u001b[0m",
      "\u001b[0;31mNameError\u001b[0m                                 Traceback (most recent call last)",
      "\u001b[1;32m/home/leonardo/projects/USA_Congress_SigNet/notebooks/3_topic_disaggregation.ipynb Cell 12\u001b[0m line \u001b[0;36m1\n\u001b[0;32m----> <a href='vscode-notebook-cell://wsl%2Bubuntu/home/leonardo/projects/USA_Congress_SigNet/notebooks/3_topic_disaggregation.ipynb#X21sdnNjb2RlLXJlbW90ZQ%3D%3D?line=0'>1</a>\u001b[0m \u001b[39mfor\u001b[39;00m csv_file \u001b[39min\u001b[39;00m tqdm(glob\u001b[39m.\u001b[39mglob(congress_path)):\n\u001b[1;32m      <a href='vscode-notebook-cell://wsl%2Bubuntu/home/leonardo/projects/USA_Congress_SigNet/notebooks/3_topic_disaggregation.ipynb#X21sdnNjb2RlLXJlbW90ZQ%3D%3D?line=1'>2</a>\u001b[0m \tcongress \u001b[39m=\u001b[39m pd\u001b[39m.\u001b[39mread_csv(csv_file)\n\u001b[1;32m      <a href='vscode-notebook-cell://wsl%2Bubuntu/home/leonardo/projects/USA_Congress_SigNet/notebooks/3_topic_disaggregation.ipynb#X21sdnNjb2RlLXJlbW90ZQ%3D%3D?line=2'>3</a>\u001b[0m \tedgelist \u001b[39m=\u001b[39m create_df_from_congress(congress, members_party_dict)\n",
      "\u001b[0;31mNameError\u001b[0m: name 'congress_path' is not defined"
     ]
    }
   ],
   "source": [
    "for csv_file in tqdm(glob.glob(congress_path)):\n",
    "\tcongress = pd.read_csv(csv_file)\n",
    "\tedgelist = create_df_from_congress(congress, members_party_dict)\n",
    "\tthreshoold_minus_1 = compute_kde_threshold(edgelist, -1)\n",
    "\tthreshoold_plus_1 = compute_kde_threshold(edgelist, 1)\n"
   ]
  },
  {
   "cell_type": "code",
   "execution_count": null,
   "metadata": {},
   "outputs": [],
   "source": [
    "# Function to scale the edge weights for edge thickness\n",
    "def scale_edge_weights(weight_values, max_thickness=8):\n",
    "    max_weight = max(weight_values)\n",
    "    if max_weight == 0:\n",
    "        return [0] * len(weight_values)\n",
    "    return [max_thickness * w / max_weight for w in weight_values]"
   ]
  },
  {
   "cell_type": "code",
   "execution_count": null,
   "metadata": {},
   "outputs": [],
   "source": [
    "edge_color = 'black'  # Change this to any color you prefer\n",
    "\n",
    "node_colors = [0 if G.nodes[n]['bipartite'] == 0 else 1 for n in G.nodes()]\n",
    "node_colors = ['skyblue' if color == 0 else 'lightcoral' for color in node_colors]  # Choose node colors\n",
    "\n",
    "edge_weights = [G[u][v]['weight'] for u, v in G.edges()]\n",
    "edge_thickness = scale_edge_weights(edge_weights)\n",
    "\n",
    "plt.figure(figsize=(15, 8))\n",
    "pos = nx.bipartite_layout(G, [n for n in G.nodes() if G.nodes[n]['bipartite'] == 1])\n",
    "nx.draw_networkx_nodes(G, pos=pos, node_color=node_colors, node_size=100)\n",
    "nx.draw_networkx_edges(G, pos=pos, width=edge_thickness, edge_color=edge_color, alpha=0.3)\n",
    "nx.draw_networkx_labels(G, pos=pos, font_size=10, font_color='black', font_family='sans-serif')\n",
    "\n",
    "legend_elements = [\n",
    "    Line2D([0], [0], marker='o', color='w', markerfacecolor='skyblue', markersize=10, label='Clausen cat.'),\n",
    "    Line2D([0], [0], marker='o', color='w', markerfacecolor='lightcoral', markersize=10, label='Peltzman cat.')\n",
    "]\n",
    "plt.legend(handles=legend_elements, loc='upper center')\n",
    "\n",
    "plt.axis('off')\n",
    "plt.show()"
   ]
  }
 ],
 "metadata": {
  "kernelspec": {
   "display_name": "USA_Congress_SigNetEnv",
   "language": "python",
   "name": "python3"
  },
  "language_info": {
   "codemirror_mode": {
    "name": "ipython",
    "version": 3
   },
   "file_extension": ".py",
   "mimetype": "text/x-python",
   "name": "python",
   "nbconvert_exporter": "python",
   "pygments_lexer": "ipython3",
   "version": "3.11.5"
  },
  "orig_nbformat": 4
 },
 "nbformat": 4,
 "nbformat_minor": 2
}
