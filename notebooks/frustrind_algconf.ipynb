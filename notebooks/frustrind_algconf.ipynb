{
 "cells": [
  {
   "cell_type": "markdown",
   "metadata": {},
   "source": [
    "# Analyze network balance with frustration index an algebraic conflict"
   ]
  },
  {
   "cell_type": "code",
   "execution_count": 32,
   "metadata": {},
   "outputs": [],
   "source": [
    "import networkx as nx\n",
    "import pandas as pd\n",
    "from matplotlib import pyplot as plt\n",
    "import tqdm\n",
    "import os\n",
    "from tqdm import tqdm\n",
    "import glob\n",
    "import re\n",
    "\n",
    "import sys\n",
    "sys.path.append('../local/bin/')\n",
    "\n",
    "from sygno.signed_networkx import draw_signed_networkx"
   ]
  },
  {
   "cell_type": "markdown",
   "metadata": {},
   "source": [
    "____________________"
   ]
  },
  {
   "cell_type": "markdown",
   "metadata": {},
   "source": [
    "Retrieve Clausen and Peltzman categories"
   ]
  },
  {
   "cell_type": "code",
   "execution_count": 16,
   "metadata": {},
   "outputs": [],
   "source": [
    "congress_path = '../dataset/download_votes_merged/*'"
   ]
  },
  {
   "cell_type": "code",
   "execution_count": 21,
   "metadata": {},
   "outputs": [
    {
     "name": "stderr",
     "output_type": "stream",
     "text": [
      "  0%|          | 0/41 [00:00<?, ?it/s]"
     ]
    },
    {
     "name": "stderr",
     "output_type": "stream",
     "text": [
      " 78%|███████▊  | 32/41 [00:52<00:15,  1.74s/it]/tmp/ipykernel_2631/3165551236.py:7: DtypeWarning: Columns (5) have mixed types. Specify dtype option on import or set low_memory=False.\n",
      "  df = pd.read_csv(csv_file)\n",
      "100%|██████████| 41/41 [01:11<00:00,  1.74s/it]\n"
     ]
    }
   ],
   "source": [
    "# Initialize a weighted bipartite graph\n",
    "G = nx.Graph()\n",
    "\n",
    "# Iterate through each CSV file\n",
    "for csv_file in tqdm(glob.glob(congress_path)):\n",
    "    # Read the CSV file into a pandas DataFrame\n",
    "    df = pd.read_csv(csv_file)\n",
    "    \n",
    "    # Count the occurrences of each pair of Clausen and Peltzman categories\n",
    "    counts = df.groupby([\"Clausen\", \"Peltzman\"]).size().reset_index(name=\"count\")\n",
    "    \n",
    "    # Add edges to the graph with weights based on the counts\n",
    "    for _, row in counts.iterrows():\n",
    "        clausen_category = row[\"Clausen\"]\n",
    "        peltzman_category = row[\"Peltzman\"]\n",
    "        count = row[\"count\"]\n",
    "        \n",
    "        G.add_node(clausen_category, bipartite=0)\n",
    "        G.add_node(peltzman_category, bipartite=1)\n",
    "        G.add_edge(clausen_category, peltzman_category, weight=count)\n",
    "\n",
    "# Now you have a weighted bipartite graph (G) with edges representing the co-occurrences\n",
    "# between Clausen and Peltzman categories and weights representing the number of occurrences."
   ]
  },
  {
   "cell_type": "code",
   "execution_count": 22,
   "metadata": {},
   "outputs": [
    {
     "name": "stdout",
     "output_type": "stream",
     "text": [
      "Clausen categories:  ['Agriculture', 'Civil Liberties', 'Foreign and Defense Policy', 'Government Management', 'Miscellaneous Policy', 'Social Welfare']\n",
      "Number of Clausen categories:  6\n",
      "Peltzman categories:  ['Budget Special Interest', 'Regulation General Interest', 'Regulation Special Interest', 'Domestic Social Policy', 'Defense Policy Budget', 'Defense Policy Resolutions', 'Foreign Policy Budget', 'Foreign Policy Resolutions', 'Budget General Interest', 'D. C.', 'Government Organization', 'Indian Affairs', 'Internal Organization']\n",
      "Number of Peltzman categories:  13\n"
     ]
    }
   ],
   "source": [
    "print('Clausen categories: ', [n for n in G.nodes() if G.nodes[n]['bipartite'] == 0])\n",
    "print('Number of Clausen categories: ', len([n for n in G.nodes() if G.nodes[n]['bipartite'] == 0]))\n",
    "\n",
    "print('Peltzman categories: ', [n for n in G.nodes() if G.nodes[n]['bipartite'] == 1])\n",
    "print('Number of Peltzman categories: ', len([n for n in G.nodes() if G.nodes[n]['bipartite'] == 1]))"
   ]
  },
  {
   "cell_type": "code",
   "execution_count": 23,
   "metadata": {},
   "outputs": [],
   "source": [
    "clausen_cat_list = [n for n in G.nodes() if G.nodes[n]['bipartite'] == 0]\n",
    "peltzman_cat_list = [n for n in G.nodes() if G.nodes[n]['bipartite'] == 1]"
   ]
  },
  {
   "cell_type": "code",
   "execution_count": 26,
   "metadata": {},
   "outputs": [],
   "source": [
    "clausen_cat_dic = {x: re.sub(' ', '_', x) for x in clausen_cat_list}\n",
    "peltzman_cat_dic = {x: re.sub(' ', '_', x) for x in peltzman_cat_list}"
   ]
  },
  {
   "cell_type": "markdown",
   "metadata": {},
   "source": [
    "_________________________"
   ]
  },
  {
   "cell_type": "code",
   "execution_count": 4,
   "metadata": {},
   "outputs": [],
   "source": [
    "dataset_folder = '../dataset/'"
   ]
  },
  {
   "cell_type": "markdown",
   "metadata": {},
   "source": [
    "Load the dataframe created in the *data_parsing.ipynb* containing all the information about the members of the congresses"
   ]
  },
  {
   "cell_type": "code",
   "execution_count": 5,
   "metadata": {},
   "outputs": [
    {
     "data": {
      "text/html": [
       "<div>\n",
       "<style scoped>\n",
       "    .dataframe tbody tr th:only-of-type {\n",
       "        vertical-align: middle;\n",
       "    }\n",
       "\n",
       "    .dataframe tbody tr th {\n",
       "        vertical-align: top;\n",
       "    }\n",
       "\n",
       "    .dataframe thead th {\n",
       "        text-align: right;\n",
       "    }\n",
       "</style>\n",
       "<table border=\"1\" class=\"dataframe\">\n",
       "  <thead>\n",
       "    <tr style=\"text-align: right;\">\n",
       "      <th></th>\n",
       "      <th>icpsr</th>\n",
       "      <th>congress</th>\n",
       "      <th>party_code</th>\n",
       "      <th>bioname</th>\n",
       "      <th>state_abbrev</th>\n",
       "      <th>party_name</th>\n",
       "      <th>color</th>\n",
       "    </tr>\n",
       "  </thead>\n",
       "  <tbody>\n",
       "    <tr>\n",
       "      <th>0</th>\n",
       "      <td>1</td>\n",
       "      <td>[82]</td>\n",
       "      <td>[200]</td>\n",
       "      <td>AANDAHL, Fred George</td>\n",
       "      <td>ND</td>\n",
       "      <td>['Republican']</td>\n",
       "      <td>firebrick</td>\n",
       "    </tr>\n",
       "    <tr>\n",
       "      <th>1</th>\n",
       "      <td>2</td>\n",
       "      <td>[80, 81, 82, 83, 84, 85, 86, 87, 88, 89, 90, 9...</td>\n",
       "      <td>[100]</td>\n",
       "      <td>ABBITT, Watkins Moorman</td>\n",
       "      <td>VA</td>\n",
       "      <td>['Democrat']</td>\n",
       "      <td>royalblue</td>\n",
       "    </tr>\n",
       "    <tr>\n",
       "      <th>2</th>\n",
       "      <td>3</td>\n",
       "      <td>[28, 29, 30]</td>\n",
       "      <td>[29]</td>\n",
       "      <td>ABBOTT, Amos</td>\n",
       "      <td>MA</td>\n",
       "      <td>['Whig']</td>\n",
       "      <td>yellow</td>\n",
       "    </tr>\n",
       "    <tr>\n",
       "      <th>3</th>\n",
       "      <td>4</td>\n",
       "      <td>[50, 51, 52, 53, 54]</td>\n",
       "      <td>[100]</td>\n",
       "      <td>ABBOTT, Jo (Joseph)</td>\n",
       "      <td>TX</td>\n",
       "      <td>['Democrat']</td>\n",
       "      <td>royalblue</td>\n",
       "    </tr>\n",
       "    <tr>\n",
       "      <th>4</th>\n",
       "      <td>5</td>\n",
       "      <td>[15, 16, 17, 18]</td>\n",
       "      <td>[7777, 13]</td>\n",
       "      <td>ABBOT, Joel</td>\n",
       "      <td>GA</td>\n",
       "      <td>['Crawford Republican', 'Democrat-Republican']</td>\n",
       "      <td>firebrick</td>\n",
       "    </tr>\n",
       "  </tbody>\n",
       "</table>\n",
       "</div>"
      ],
      "text/plain": [
       "   icpsr                                           congress  party_code  \\\n",
       "0      1                                               [82]       [200]   \n",
       "1      2  [80, 81, 82, 83, 84, 85, 86, 87, 88, 89, 90, 9...       [100]   \n",
       "2      3                                       [28, 29, 30]        [29]   \n",
       "3      4                               [50, 51, 52, 53, 54]       [100]   \n",
       "4      5                                   [15, 16, 17, 18]  [7777, 13]   \n",
       "\n",
       "                   bioname state_abbrev  \\\n",
       "0     AANDAHL, Fred George           ND   \n",
       "1  ABBITT, Watkins Moorman           VA   \n",
       "2             ABBOTT, Amos           MA   \n",
       "3      ABBOTT, Jo (Joseph)           TX   \n",
       "4              ABBOT, Joel           GA   \n",
       "\n",
       "                                       party_name      color  \n",
       "0                                  ['Republican']  firebrick  \n",
       "1                                    ['Democrat']  royalblue  \n",
       "2                                        ['Whig']     yellow  \n",
       "3                                    ['Democrat']  royalblue  \n",
       "4  ['Crawford Republican', 'Democrat-Republican']  firebrick  "
      ]
     },
     "execution_count": 5,
     "metadata": {},
     "output_type": "execute_result"
    }
   ],
   "source": [
    "pol = pd.read_csv(dataset_folder + 'members.csv')\n",
    "pol['color'] = pol['party_name'].apply(lambda x: 'firebrick' if 'Republican' in x else ('royalblue' if 'Democrat' in x else 'yellow'))\n",
    "pol.head()"
   ]
  },
  {
   "cell_type": "markdown",
   "metadata": {},
   "source": [
    "Create a dictionary that links each icpsr to a party. Notice that an icpsr identifies uniquely a legislator, but a legislator can have more than one icpsr. This is because the icpsr is assigned to a legislator for each congress. For example, if a legislator is elected in 2000 and reelected in 2002, he will have two different icpsr, one for each congress. We will use the icpsr of the first congress in which the legislator was elected."
   ]
  },
  {
   "cell_type": "code",
   "execution_count": 15,
   "metadata": {},
   "outputs": [
    {
     "data": {
      "text/plain": [
       "{'party_name': \"['Democrat-Republican']\"}"
      ]
     },
     "execution_count": 15,
     "metadata": {},
     "output_type": "execute_result"
    }
   ],
   "source": [
    "pol_dic = pol[['icpsr', 'party_name']].set_index('icpsr').to_dict(orient=\"index\")\n",
    "# e.g.\n",
    "pol_dic[323]"
   ]
  },
  {
   "cell_type": "code",
   "execution_count": 9,
   "metadata": {},
   "outputs": [],
   "source": [
    "def draw_graph(df, pol_dic):\n",
    "\n",
    "    # Arguments:\n",
    "\t# df ---> edgelist\n",
    "\t# pol_dic ---> dictionary where key is icpsr and value is party_name\n",
    "\t# congress_num ---> congress number\n",
    "\n",
    "\n",
    "    G = nx.from_pandas_edgelist(df, 'source', 'target', ['weight'])\n",
    "\n",
    "    nodeData = {list(g.icpsr)[0]: {'state': list(g.state_abbrev)[0], 'party': list(g.party_name)[0], 'color': list(g.color)[0],  'congress': list(g.congress)[0], 'name': list(g.bioname)[0]} for k, g in pol.groupby('icpsr')}\n",
    "    nx.set_node_attributes(G, nodeData)\n",
    "\n",
    "    colors = [node[1]['color'] for node in G.nodes(data=True)]\n",
    "    \n",
    "    fig, ax, pos, least_eigenvalue = draw_signed_networkx(G, node_color=colors, compact = True, theme=\"white\", normalize=True, scale='log', jittering=0.01, margin=0.2, show_rotation=False, highlight_edges='frustrated', remove_n_outliers=3,sort_by='party');\n",
    "    \n",
    "    # print infos about users per party\n",
    "    positions_party = {'pos': {'Democrat': 0,'Republican':0}, 'neg': {'Democrat': 0,'Republican':0}}\n",
    "    for p in pos.keys():\n",
    "        if pos[p].x > 0:\n",
    "            if pol_dic[int(p)]['party_name'] == 'Democrat' or pol_dic[int(p)]['party_name'] == 'Republican':\n",
    "                positions_party['pos'][pol_dic[int(p)]['party_name']] += 1\n",
    "        else:\n",
    "            if pol_dic[int(p)]['party_name'] == 'party_name' or pol_dic[int(p)]['party_name'] == 'Republican':\n",
    "                positions_party['neg'][pol_dic[int(p)]['party_name']] += 1\n",
    "\n",
    "    plt.text(0, .04, \"Rep: \"+str(positions_party['neg']['Republican']), fontsize=13, transform=ax.transAxes, color=\"ghostwhite\")\n",
    "    plt.text(0, .09, \"Dem: \"+str(positions_party['neg']['Democrat']), fontsize=13, transform=ax.transAxes, color=\"ghostwhite\")\n",
    "\n",
    "    plt.text(0.9, .04, \"Rep: \"+str(positions_party['pos']['Republican']), fontsize=13, transform=ax.transAxes, color=\"ghostwhite\")\n",
    "    plt.text(0.9, .09, \"Dem: \"+str(positions_party['pos']['Democrat']), fontsize=13, transform=ax.transAxes, color=\"ghostwhite\")\n",
    "    \n",
    "\n",
    "    plt.show()"
   ]
  },
  {
   "cell_type": "code",
   "execution_count": 28,
   "metadata": {},
   "outputs": [],
   "source": [
    "def read_edgelist(folder, threshold_pos, threshold_neg):\n",
    "    # read edgelist\n",
    "    df = pd.read_csv(folder)\n",
    "    df_pos = df.loc[(df['weight']==1)&(df['perc']>threshold_pos)].copy()\n",
    "    df_neg = df.loc[(df['weight']==-1)&(df['perc']>threshold_neg)].copy()\n",
    "    df = pd.concat([df_pos, df_neg])\n",
    "\n",
    "    draw_graph(df, pol_dic)"
   ]
  },
  {
   "cell_type": "code",
   "execution_count": 29,
   "metadata": {},
   "outputs": [],
   "source": [
    "thresholds_path = '../dataset/thresholds/'\n",
    "edgelists_path = '../dataset/edgelists/'"
   ]
  },
  {
   "cell_type": "code",
   "execution_count": 33,
   "metadata": {},
   "outputs": [],
   "source": [
    "for clausen in clausen_cat_dic.values():\n",
    "\tfor csv in glob.glob(edgelists_path + 'votes_house_clausen_edgelists/' + clausen + '/*.csv'):\n",
    "\t\tn_congress = int(os.path.basename(csv).replace('congress_', '').replace('.csv', ''))\n",
    "\t\ttemp = pd.read_csv(thresholds_path + 'house_clausen_thresholds/' + clausen + '/' + n_congress + '_dic_thresholds_norm.csv')\n",
    "\t\tthreshold_pos = temp.iloc[0]['pos_threshold']\n",
    "\t\tthreshold_neg = temp.iloc[0]['neg_threshold']\n",
    "\n",
    "\t\tread_edgelist('../../dataset/edgelists/votes_house_clausen_edges/' + clausen + '/congress_'+n_congress+'.csv', threshold_pos, threshold_neg)"
   ]
  },
  {
   "cell_type": "code",
   "execution_count": null,
   "metadata": {},
   "outputs": [],
   "source": []
  }
 ],
 "metadata": {
  "kernelspec": {
   "display_name": "USA_Congress_SigNetEnv",
   "language": "python",
   "name": "python3"
  },
  "language_info": {
   "codemirror_mode": {
    "name": "ipython",
    "version": 3
   },
   "file_extension": ".py",
   "mimetype": "text/x-python",
   "name": "python",
   "nbconvert_exporter": "python",
   "pygments_lexer": "ipython3",
   "version": "3.11.5"
  }
 },
 "nbformat": 4,
 "nbformat_minor": 2
}
